{
 "cells": [
  {
   "cell_type": "code",
   "execution_count": null,
   "id": "671cf489",
   "metadata": {},
   "outputs": [],
   "source": [
    "#Imports for the project\n",
    "import pandas as pd\n",
    "import matplotlib as mpl\n",
    "import numpy as np\n",
    "from matplotlib import pyplot as plt\n",
    "%matplotlib inline\n",
    "import warnings\n",
    "warnings.filterwarnings(\"ignore\")"
   ]
  },
  {
   "cell_type": "code",
   "execution_count": null,
   "id": "d828b668",
   "metadata": {},
   "outputs": [],
   "source": [
    "#Load the CSV into a DataFrame\n",
    "df = pd.read_csv(r'clean_data.csv')\n",
    "\n",
    "#A copy of the data for backup\n",
    "clean_df = df.iloc[:,1:].copy()"
   ]
  },
  {
   "cell_type": "code",
   "execution_count": null,
   "id": "acca04b8",
   "metadata": {},
   "outputs": [],
   "source": [
    "plt.rcParams.update({'figure.figsize':(7,5), 'figure.dpi':100})\n",
    "plt.hist(new_df.VGChartz_Score, bins=50)\n",
    "plt.gca().set(title='VGChartz Score Frequency \\n\\n', ylabel='Frequency',xlabel='VGChartz_Score');\n",
    "plt.show()"
   ]
  },
  {
   "cell_type": "code",
   "execution_count": null,
   "id": "fef4da37",
   "metadata": {},
   "outputs": [],
   "source": [
    "plt.rcParams.update({'figure.figsize':(7,5), 'figure.dpi':100})\n",
    "plt.hist(new_df.Critic_Score, bins=50)\n",
    "plt.gca().set(title='Critic Score Frequency \\n\\n', ylabel='Frequency',xlabel='Critic_Score');\n",
    "plt.show()"
   ]
  },
  {
   "cell_type": "code",
   "execution_count": null,
   "id": "89cb5cc2",
   "metadata": {},
   "outputs": [],
   "source": [
    "plt.rcParams.update({'figure.figsize':(7,5), 'figure.dpi':100})\n",
    "plt.hist(new_df.User_Score, bins=50)\n",
    "plt.gca().set(title='User Score Frequency \\n\\n', ylabel='Frequency',xlabel='User_Score');\n",
    "plt.show()"
   ]
  },
  {
   "cell_type": "code",
   "execution_count": null,
   "id": "2c9b6790",
   "metadata": {},
   "outputs": [],
   "source": [
    "plt.rcParams.update({'figure.figsize':(7,5), 'figure.dpi':100})\n",
    "plt.hist(new_df.NA_Sales, bins=50)\n",
    "plt.gca().set(title='NA Sales Frequency \\n\\n', ylabel='Frequency',xlabel='NA_Sales');\n",
    "plt.show()"
   ]
  },
  {
   "cell_type": "code",
   "execution_count": null,
   "id": "daf53dfb",
   "metadata": {},
   "outputs": [],
   "source": [
    "plt.rcParams.update({'figure.figsize':(7,5), 'figure.dpi':100})\n",
    "plt.hist(new_df.PAL_Sales, bins=50)\n",
    "plt.gca().set(title='PAL Sales Frequency \\n\\n', ylabel='Frequency',xlabel='PAL_Sales');\n",
    "plt.show()"
   ]
  },
  {
   "cell_type": "code",
   "execution_count": null,
   "id": "e65d880e",
   "metadata": {},
   "outputs": [],
   "source": [
    "plt.rcParams.update({'figure.figsize':(7,5), 'figure.dpi':100})\n",
    "plt.hist(new_df.Japan_Sales, bins=50)\n",
    "plt.gca().set(title='Japan Sales Frequency \\n\\n', ylabel='Frequency',xlabel='Japan_Sales');\n",
    "plt.show()"
   ]
  },
  {
   "cell_type": "code",
   "execution_count": null,
   "id": "0d83436a",
   "metadata": {},
   "outputs": [],
   "source": [
    "plt.rcParams.update({'figure.figsize':(7,5), 'figure.dpi':100})\n",
    "plt.hist(new_df.Other_Sales, bins=50)\n",
    "plt.gca().set(title='Other Sales Frequency \\n\\n', ylabel='Frequency',xlabel='Other_Sales');\n",
    "plt.show()"
   ]
  },
  {
   "cell_type": "code",
   "execution_count": null,
   "id": "b24a563c",
   "metadata": {},
   "outputs": [],
   "source": [
    "plt.rcParams.update({'figure.figsize':(7,5), 'figure.dpi':100})\n",
    "plt.hist(new_df.Total_Sales, bins=50)\n",
    "plt.gca().set(title='Total Sales Frequency \\n\\n', ylabel='Frequency',xlabel='Total_Sales');\n",
    "plt.show()"
   ]
  },
  {
   "cell_type": "code",
   "execution_count": null,
   "id": "9f20972f",
   "metadata": {},
   "outputs": [],
   "source": []
  },
  {
   "cell_type": "code",
   "execution_count": null,
   "id": "bd8c8b54",
   "metadata": {},
   "outputs": [],
   "source": [
    "\n",
    "# month = range(1,13)\n",
    "x = new_df.groupby('Relese_Month').sum()\n",
    "\n",
    "plt.bar(month,x['Total_Sales'])\n",
    "# plt.xticks(month)\n",
    "labels,location = plt.yticks()\n",
    "plt.yticks(labels,(labels/1000000).astype(int))\n",
    "plt.gca().set(title='Relese Year Frequency \\n\\n', ylabel=\"Total_Sales\",xlabel='sales in million USD');\n",
    "plt.show()\n",
    "# plt.xlabel=('Total_Sales')\n",
    "# plt.ylabel=(\"sales in million USD\")\n",
    "# plt.show"
   ]
  },
  {
   "cell_type": "code",
   "execution_count": null,
   "id": "dcfa0bf4",
   "metadata": {},
   "outputs": [],
   "source": [
    "plt.rcParams.update({'figure.figsize':(7,5), 'figure.dpi':100})\n",
    "plt.hist(new_df.Relese_Year, bins=50)\n",
    "plt.gca().set(title='Relese Year Frequency \\n\\n', ylabel='Frequency',xlabel='Relese_Year');\n",
    "plt.show()1"
   ]
  },
  {
   "cell_type": "code",
   "execution_count": null,
   "id": "a6a776a4",
   "metadata": {},
   "outputs": [],
   "source": [
    "fig = plt.figure(figsize =(10, 7))\n",
    " \n",
    "# Creating plot\n",
    "plt.boxplot(new_df['Total_Sales'])\n",
    " \n",
    "# show plot\n",
    "plt.show()"
   ]
  },
  {
   "cell_type": "code",
   "execution_count": null,
   "id": "fcd8bde5",
   "metadata": {},
   "outputs": [],
   "source": [
    "new_df.Japan_Sales.describe()"
   ]
  },
  {
   "cell_type": "code",
   "execution_count": null,
   "id": "67b3b28c",
   "metadata": {},
   "outputs": [],
   "source": [
    "new_df.PAL_Sales.describe()"
   ]
  },
  {
   "cell_type": "code",
   "execution_count": null,
   "id": "89a66ef8",
   "metadata": {},
   "outputs": [],
   "source": [
    "new_df.Total_Sales.describe()"
   ]
  },
  {
   "cell_type": "code",
   "execution_count": null,
   "id": "82c02022",
   "metadata": {},
   "outputs": [],
   "source": [
    "NA_Sales"
   ]
  },
  {
   "cell_type": "code",
   "execution_count": null,
   "id": "8e7364fc",
   "metadata": {},
   "outputs": [],
   "source": [
    "mycols = [\"NA_Sales\",\"PAL_Sales\",\"Japan_Sales\"]\n",
    "all_outlier_rows = []\n",
    "for col in mycols :        \n",
    "        Q1 = np.percentile(df[col], 25)\n",
    "        Q3 = np.percentile(df[col], 75)\n",
    "        IQR = Q3 - Q1\n",
    "        IQR_range = 1.5 * IQR\n",
    "        col_outlier = new_df[(new_df[col] < Q1 - IQR_range) | \n",
    "                              (new_df[col] > Q3 + IQR_range )].index\n",
    "        all_outlier_rows.extend(col_outlier)\n"
   ]
  },
  {
   "cell_type": "code",
   "execution_count": null,
   "id": "70f339cb",
   "metadata": {},
   "outputs": [],
   "source": [
    "len(all_outlier_rows)"
   ]
  },
  {
   "cell_type": "code",
   "execution_count": null,
   "id": "1acf20c1",
   "metadata": {},
   "outputs": [],
   "source": [
    "df[\"Console\"].value_counts().plot(kind = 'bar')"
   ]
  },
  {
   "cell_type": "code",
   "execution_count": null,
   "id": "eddd791f",
   "metadata": {},
   "outputs": [],
   "source": [
    "df[\"Console\"].value_counts().plot(kind = 'pie')"
   ]
  },
  {
   "cell_type": "code",
   "execution_count": null,
   "id": "6eb9f7bf",
   "metadata": {},
   "outputs": [],
   "source": [
    "plt.scatter(df.Console, df.Genre)"
   ]
  },
  {
   "cell_type": "code",
   "execution_count": null,
   "id": "d8233669",
   "metadata": {},
   "outputs": [],
   "source": []
  },
  {
   "cell_type": "code",
   "execution_count": null,
   "id": "0236182b",
   "metadata": {},
   "outputs": [],
   "source": []
  },
  {
   "cell_type": "code",
   "execution_count": null,
   "id": "ca9d3048",
   "metadata": {},
   "outputs": [],
   "source": []
  }
 ],
 "metadata": {
  "kernelspec": {
   "display_name": "Python 3 (ipykernel)",
   "language": "python",
   "name": "python3"
  },
  "language_info": {
   "codemirror_mode": {
    "name": "ipython",
    "version": 3
   },
   "file_extension": ".py",
   "mimetype": "text/x-python",
   "name": "python",
   "nbconvert_exporter": "python",
   "pygments_lexer": "ipython3",
   "version": "3.9.7"
  }
 },
 "nbformat": 4,
 "nbformat_minor": 5
}
