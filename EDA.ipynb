{
 "cells": [
  {
   "cell_type": "markdown",
   "id": "6c48738a",
   "metadata": {},
   "source": [
    "# EDA"
   ]
  },
  {
   "cell_type": "code",
   "execution_count": 1,
   "id": "adcf1aad",
   "metadata": {},
   "outputs": [
    {
     "name": "stdout",
     "output_type": "stream",
     "text": [
      "Collecting plotly\n",
      "  Downloading plotly-5.8.0-py2.py3-none-any.whl (15.2 MB)\n",
      "Collecting tenacity>=6.2.0\n",
      "  Downloading tenacity-8.0.1-py3-none-any.whl (24 kB)\n",
      "Installing collected packages: tenacity, plotly\n",
      "Successfully installed plotly-5.8.0 tenacity-8.0.1\n",
      "Note: you may need to restart the kernel to use updated packages.\n"
     ]
    }
   ],
   "source": [
    "pip install plotly"
   ]
  },
  {
   "cell_type": "code",
   "execution_count": 2,
   "id": "28bbd613",
   "metadata": {},
   "outputs": [
    {
     "ename": "ModuleNotFoundError",
     "evalue": "No module named 'selenium'",
     "output_type": "error",
     "traceback": [
      "\u001b[1;31m---------------------------------------------------------------------------\u001b[0m",
      "\u001b[1;31mModuleNotFoundError\u001b[0m                       Traceback (most recent call last)",
      "\u001b[1;32m~\\AppData\\Local\\Temp/ipykernel_19264/3730511718.py\u001b[0m in \u001b[0;36m<module>\u001b[1;34m\u001b[0m\n\u001b[0;32m     24\u001b[0m \u001b[1;32mfrom\u001b[0m \u001b[0mtime\u001b[0m \u001b[1;32mimport\u001b[0m \u001b[0msleep\u001b[0m\u001b[1;33m\u001b[0m\u001b[1;33m\u001b[0m\u001b[0m\n\u001b[0;32m     25\u001b[0m \u001b[1;32mfrom\u001b[0m \u001b[0mbs4\u001b[0m \u001b[1;32mimport\u001b[0m \u001b[0mBeautifulSoup\u001b[0m\u001b[1;33m\u001b[0m\u001b[1;33m\u001b[0m\u001b[0m\n\u001b[1;32m---> 26\u001b[1;33m \u001b[1;32mfrom\u001b[0m \u001b[0mselenium\u001b[0m \u001b[1;32mimport\u001b[0m \u001b[0mwebdriver\u001b[0m\u001b[1;33m\u001b[0m\u001b[1;33m\u001b[0m\u001b[0m\n\u001b[0m\u001b[0;32m     27\u001b[0m \u001b[1;32mimport\u001b[0m \u001b[0mrandom\u001b[0m\u001b[1;33m\u001b[0m\u001b[1;33m\u001b[0m\u001b[0m\n\u001b[0;32m     28\u001b[0m \u001b[1;32mimport\u001b[0m \u001b[0mre\u001b[0m\u001b[1;33m\u001b[0m\u001b[1;33m\u001b[0m\u001b[0m\n",
      "\u001b[1;31mModuleNotFoundError\u001b[0m: No module named 'selenium'"
     ]
    }
   ],
   "source": [
    "#Imports for the project\n",
    "import pandas as pd\n",
    "import matplotlib as mpl\n",
    "import numpy as np\n",
    "from matplotlib import pyplot as plt\n",
    "%matplotlib inline\n",
    "import warnings\n",
    "warnings.filterwarnings(\"ignore\")\n",
    "\n",
    "\n",
    "import os                           \n",
    "import math\n",
    "import seaborn as sns\n",
    "from collections import Counter\n",
    "from sklearn.decomposition import PCA\n",
    "\n",
    "from __future__ import division\n",
    "from scipy.stats import skew\n",
    "from scipy.stats.stats import pearsonr\n",
    "\n",
    "from random import random\n",
    "\n",
    "\n",
    "from time import sleep\n",
    "from bs4 import BeautifulSoup\n",
    "from selenium import webdriver\n",
    "import random\n",
    "import re\n",
    "from datetime import datetime\n",
    "from scipy.stats import chi2_contingency\n",
    "from mpl_toolkits.mplot3d import Axes3D\n",
    "\n",
    "\n",
    "# show several prints in one cell. This will allow us to condence every trick in one cell.\n",
    "from IPython.core.interactiveshell import InteractiveShell\n",
    "InteractiveShell.ast_node_interactivity = \"all\""
   ]
  },
  {
   "cell_type": "markdown",
   "id": "58da2c71",
   "metadata": {},
   "source": [
    "**-----------------------------------------------------------------------------------------------------------------------------------------------------------------------------------------------------------------**"
   ]
  },
  {
   "cell_type": "markdown",
   "id": "2ef483b7",
   "metadata": {},
   "source": [
    "Load the CSV into a DataFrame"
   ]
  },
  {
   "cell_type": "code",
   "execution_count": null,
   "id": "8e3a8d8c",
   "metadata": {},
   "outputs": [],
   "source": [
    "df = pd.read_csv(r'clean_data.csv')"
   ]
  },
  {
   "cell_type": "markdown",
   "id": "e5d564e8",
   "metadata": {},
   "source": [
    "A copy of the data for backup"
   ]
  },
  {
   "cell_type": "code",
   "execution_count": null,
   "id": "ca153ea5",
   "metadata": {},
   "outputs": [],
   "source": [
    "clean_df = df.iloc[:,1:].copy()"
   ]
  },
  {
   "cell_type": "code",
   "execution_count": null,
   "id": "ae923186",
   "metadata": {},
   "outputs": [],
   "source": [
    "clean_df.nunique()"
   ]
  },
  {
   "cell_type": "code",
   "execution_count": null,
   "id": "84d35dba",
   "metadata": {},
   "outputs": [],
   "source": [
    "df.describe().transpose()"
   ]
  },
  {
   "cell_type": "code",
   "execution_count": null,
   "id": "9973bfa9",
   "metadata": {},
   "outputs": [],
   "source": [
    "clean_df"
   ]
  },
  {
   "cell_type": "markdown",
   "id": "5abcd85b",
   "metadata": {},
   "source": [
    "**The categorical columns are:**\n",
    "\n",
    "Console\n",
    "Genre\n",
    "Publisher\n",
    "Developer\n",
    "\n",
    "**The numerical columns are:**\n",
    "\n",
    "\n",
    "Relese_Year\n",
    "\n",
    "Relese_Month\n",
    "\n",
    "VGChartz_Score\n",
    "\n",
    "Critic_Score\n",
    "\n",
    "NA_Sales\n",
    "\n",
    "PAL_Sales\n",
    "\n",
    "Japan_Sales\n",
    "\n",
    "Other_Sales\n",
    "\n",
    "Total_Sales\n",
    "\n",
    "Hit_Games\n",
    "\n",
    "***----------------------------------------------------------------***\n",
    "\n",
    "Game — The games name\n",
    "\n",
    "Console — Platform of the games release (i.e. PC, PS4, etc.)\n",
    "\n",
    "Genre — Genre of the game\n",
    "\n",
    "Publisher — Publisher of the game\n",
    "\n",
    "Developer — Developer of the game\n",
    "\n",
    "Critic_Score - Critic's score\n",
    "\n",
    "VGChartz_Score - VGChartz's Score\n",
    "\n",
    "NA_Sales — Sales in North America (in millions)\n",
    "\n",
    "PAL_Sales — Sales in Europe (in millions)\n",
    "\n",
    "Japan_Sales — Sales in Japan (in millions)\n",
    "\n",
    "Other_Sales — Sales in the rest of the world (in millions)\n",
    "\n",
    "Total_Sales — Total worldwide sales\n",
    "\n",
    "Hit_Games - hit game(1) or not(0)"
   ]
  },
  {
   "cell_type": "markdown",
   "id": "0290641d",
   "metadata": {},
   "source": [
    "**-----------------------------------------------------------------------------------------------------------------------------------------------------------------------------------------------------------------**"
   ]
  },
  {
   "cell_type": "markdown",
   "id": "3d45657a",
   "metadata": {},
   "source": [
    "# Univariate Analysis"
   ]
  },
  {
   "cell_type": "markdown",
   "id": "2f09f6bc",
   "metadata": {},
   "source": [
    "**-----------------------------------------------------------------------------------------------------------------------------------------------------------------------------------------------------------------**"
   ]
  },
  {
   "cell_type": "markdown",
   "id": "914c6ecb",
   "metadata": {},
   "source": [
    "this function will create a grid of Axes such that each numeric variable in data will by shared across\n",
    "the y-axes across a single row and the x-axes across a single column.\n",
    "The diagonal plots are treated differently: \n",
    "a univariate distribution plot is drawn to show the marginal distribution of the data in each column."
   ]
  },
  {
   "cell_type": "code",
   "execution_count": null,
   "id": "b70ee674",
   "metadata": {},
   "outputs": [],
   "source": [
    "sns.pairplot(clean_df,aspect=.85)"
   ]
  },
  {
   "cell_type": "markdown",
   "id": "e8f24562",
   "metadata": {},
   "source": [
    "**-----------------------------------------------------------------------------------------------------------------------------------------------------------------------------------------------------------------**"
   ]
  },
  {
   "cell_type": "markdown",
   "id": "55f16050",
   "metadata": {},
   "source": [
    "Top 10 games who made the most sales globally"
   ]
  },
  {
   "cell_type": "code",
   "execution_count": null,
   "id": "45110463",
   "metadata": {
    "scrolled": true
   },
   "outputs": [],
   "source": [
    "#Top 10 games with the highest sales volume\n",
    "\n",
    "Game = clean_df.Game\n",
    "Genre = clean_df.Genre\n",
    "Total_Sales = clean_df.Total_Sales\n",
    "Publisher =  clean_df.Publisher\n",
    "Relese_Year=  clean_df.Relese_Year\n",
    "Developer=  clean_df.Developer\n",
    "Relese_Month=  clean_df.Relese_Month\n",
    "Console= clean_df.Console\n",
    "Hit_Games=clean_df.Hit_Games\n",
    "\n",
    "dfSales = {'Game':Game,'Genre': Genre, 'Total_Sales': Total_Sales, \n",
    "'Publisher':Publisher,'Developer':Developer,'Relese_Month':Relese_Month,'Relese_Year':Relese_Year,'Console':Console,'Hit_Games':Hit_Games}\n",
    "dfSales = pd.DataFrame(dfSales,columns = ['Game','Genre','Console', 'Publisher','Developer','Relese_Year','Relese_Month','Total_Sales','Hit_Games'])\n",
    "dfbyyear = dfSales.nlargest(10, \"Total_Sales\")\n",
    "\n",
    "\n",
    "dfbyyear.head(10)"
   ]
  },
  {
   "cell_type": "markdown",
   "id": "9a198a3b",
   "metadata": {},
   "source": [
    "**-----------------------------------------------------------------------------------------------------------------------------------------------------------------------------------------------------------------**"
   ]
  },
  {
   "cell_type": "markdown",
   "id": "72e5fbff",
   "metadata": {},
   "source": [
    "Years"
   ]
  },
  {
   "cell_type": "code",
   "execution_count": null,
   "id": "c2f40bb7",
   "metadata": {
    "scrolled": true
   },
   "outputs": [],
   "source": [
    "#Frequency of Games by years\n",
    "\n",
    "plt.figure(figsize=(15, 10))\n",
    "sns.countplot(x=\"Relese_Year\", data=clean_df).set_title(\"Frequency of sales by month\",fontsize=30)\n",
    "plt.xticks(rotation=45)\n",
    "plt.show()\n",
    "\n",
    "year_game = clean_df.pivot_table(index = 'Relese_Year', values= 'Game', aggfunc='count' ).reset_index()\n",
    "year_game.columns = ['Relese Year', 'Game']\n",
    "year_game = year_game.sort_values('Game', ascending=False)\n",
    "year_game.head(10)"
   ]
  },
  {
   "cell_type": "markdown",
   "id": "2ee801af",
   "metadata": {},
   "source": [
    "**Conclusion:** The years with the highest game releases are between 2008-2010"
   ]
  },
  {
   "cell_type": "markdown",
   "id": "15733956",
   "metadata": {},
   "source": [
    "**-----------------------------------------------------------------------------------------------------------------------------------------------------------------------------------------------------------------**"
   ]
  },
  {
   "cell_type": "markdown",
   "id": "5b82d434",
   "metadata": {},
   "source": [
    "Month"
   ]
  },
  {
   "cell_type": "code",
   "execution_count": null,
   "id": "b5c7954c",
   "metadata": {
    "scrolled": true
   },
   "outputs": [],
   "source": [
    "#Frequency of Games by month\n",
    "\n",
    "plt.figure(figsize=(15, 10))\n",
    "sns.countplot(x=\"Relese_Month\", data=clean_df).set_title(\"Frequency of sales by month\",fontsize=30)\n",
    "plt.show()\n",
    "\n",
    "month_game = clean_df.pivot_table(index = 'Relese_Month', values= 'Game', aggfunc='count' ).reset_index()\n",
    "month_game.columns = ['Relese Month', 'Game']\n",
    "month_game = month_game.sort_values('Game', ascending=False)\n",
    "month_game.head(10)"
   ]
  },
  {
   "cell_type": "markdown",
   "id": "ddb5b401",
   "metadata": {},
   "source": [
    "**Conclusion:** The months with the highest game releases are November & October"
   ]
  },
  {
   "cell_type": "markdown",
   "id": "90fb6c95",
   "metadata": {},
   "source": [
    "**-----------------------------------------------------------------------------------------------------------------------------------------------------------------------------------------------------------------**"
   ]
  },
  {
   "cell_type": "markdown",
   "id": "90f980c0",
   "metadata": {},
   "source": [
    "Console"
   ]
  },
  {
   "cell_type": "code",
   "execution_count": null,
   "id": "a79cce8b",
   "metadata": {
    "scrolled": true
   },
   "outputs": [],
   "source": [
    "# Consoles with the most Games\n",
    "\n",
    "clean_df[\"Console\"].value_counts()[:15].plot(kind = 'barh', color=\"r\",edgecolor='black').set_title('Consoles with the highest number of games',fontsize=30)\n",
    "plt.rcParams[\"figure.figsize\"] = [30, 13]\n",
    "plt.show()\n",
    "\n",
    "console_game = clean_df.pivot_table(index = 'Console', values= 'Game', aggfunc='count' ).reset_index()\n",
    "console_game.columns = ['Console', 'Game']\n",
    "console_game = console_game.sort_values('Game', ascending=False)\n",
    "console_game.head(15)"
   ]
  },
  {
   "cell_type": "markdown",
   "id": "220840c3",
   "metadata": {},
   "source": [
    "**Conclusion:** The consoles with the most games are PC Nintendo DS & PS2"
   ]
  },
  {
   "cell_type": "markdown",
   "id": "f07c1162",
   "metadata": {},
   "source": [
    "**-----------------------------------------------------------------------------------------------------------------------------------------------------------------------------------------------------------------**"
   ]
  },
  {
   "cell_type": "markdown",
   "id": "46718345",
   "metadata": {},
   "source": [
    "Publisher"
   ]
  },
  {
   "cell_type": "code",
   "execution_count": null,
   "id": "c79c826c",
   "metadata": {
    "scrolled": true
   },
   "outputs": [],
   "source": [
    "# publishers with the most Games\n",
    "\n",
    "top_publishers = clean_df[[\"Publisher\", \"Total_Sales\"]].groupby(\"Publisher\").count().sort_values(\"Total_Sales\", ascending=False).head(20)\n",
    "top_publishers.plot.bar(title=\"Top 20 Publishers with the highest number of games\",figsize=(20,10),fontsize=20,color = '#ff9966',edgecolor='blue').title.set_size(30)\n",
    "plt.ylabel(\"Amount\",fontsize=18)\n",
    "plt.xlabel(\"Publisher\",fontsize=18) \n",
    "plt.show()\n",
    "\n",
    "Publisher_game = clean_df.pivot_table(index = 'Publisher', values= 'Game', aggfunc='count' ).reset_index()\n",
    "Publisher_game.columns = ['Publisher', 'Game']\n",
    "Publisher_game = Publisher_game.sort_values('Game', ascending=False)\n",
    "Publisher_game.head(15)"
   ]
  },
  {
   "cell_type": "markdown",
   "id": "7e262d0d",
   "metadata": {},
   "source": [
    "Conclusion: The leading Publishers are Ubisoft, Activision & Nintendo"
   ]
  },
  {
   "cell_type": "markdown",
   "id": "8a65c1bd",
   "metadata": {},
   "source": [
    "**-----------------------------------------------------------------------------------------------------------------------------------------------------------------------------------------------------------------**"
   ]
  },
  {
   "cell_type": "markdown",
   "id": "974b44cc",
   "metadata": {},
   "source": [
    "Developer"
   ]
  },
  {
   "cell_type": "code",
   "execution_count": null,
   "id": "b8aac2c2",
   "metadata": {
    "scrolled": true
   },
   "outputs": [],
   "source": [
    "# Developers with the most Games\n",
    "\n",
    "top_publishers = clean_df[[\"Developer\", \"Total_Sales\"]].groupby(\"Developer\").count().sort_values(\"Total_Sales\", ascending=False).head(20)\n",
    "top_publishers.plot.bar(title=\"Top 20 developers with the highest number of games\",figsize=(20,10),fontsize=20,color ='lightseagreen',edgecolor='black').title.set_size(30)\n",
    "plt.ylabel(\"Amount\",fontsize=18)\n",
    "plt.xlabel(\"Developer\",fontsize=18) \n",
    "plt.show()\n",
    "\n",
    "developer_game = clean_df.pivot_table(index = 'Developer', values= 'Game', aggfunc='count' ).reset_index()\n",
    "developer_game.columns = ['Developer', 'Game']\n",
    "developer_game = developer_game.sort_values('Game', ascending=False)\n",
    "developer_game.head(15)"
   ]
  },
  {
   "cell_type": "markdown",
   "id": "2c5a4393",
   "metadata": {},
   "source": [
    "**Conclusion:** The leading developers are who have released games are Capcom & Konami"
   ]
  },
  {
   "cell_type": "markdown",
   "id": "c83ffacc",
   "metadata": {},
   "source": [
    "**-----------------------------------------------------------------------------------------------------------------------------------------------------------------------------------------------------------------**"
   ]
  },
  {
   "cell_type": "markdown",
   "id": "cef6fe08",
   "metadata": {},
   "source": [
    "Genre"
   ]
  },
  {
   "cell_type": "code",
   "execution_count": null,
   "id": "44f4f123",
   "metadata": {
    "scrolled": true
   },
   "outputs": [],
   "source": [
    "fig, axes = plt.subplots(figsize=(11, 17))\n",
    "clean_df[\"Genre\"].value_counts()[:15].plot(kind = 'pie', autopct='%1.1f%%', startangle=270, fontsize=9, pctdistance=0.7, radius = 1.5)\n",
    "plt.show()"
   ]
  },
  {
   "cell_type": "code",
   "execution_count": null,
   "id": "b201bdde",
   "metadata": {},
   "outputs": [],
   "source": [
    "# Genre with the most Games\n",
    "\n",
    "plt.figure(figsize=(12,6), dpi=150)\n",
    "sns.countplot(data=clean_df,\n",
    "              x=\"Genre\",\n",
    "              order = clean_df[\"Genre\"].value_counts().index,\n",
    "              palette=\"Dark2\").set_title(\"Genres with the highest number of games\",fontsize=30)\n",
    "plt.xticks(rotation=45)\n",
    "plt.show()\n",
    "\n",
    "genre_game = clean_df.pivot_table(index = 'Genre', values= 'Game', aggfunc='count' ).reset_index()\n",
    "genre_game.columns = ['Genre', 'Game']\n",
    "genre_game = genre_game.sort_values('Game', ascending=False)\n",
    "genre_game.head(10)"
   ]
  },
  {
   "cell_type": "markdown",
   "id": "b4967304",
   "metadata": {},
   "source": [
    "**conclusion:**  Games belonging to Action genre are leaders in the number of games per genre,\n",
    "they control almost 20 percent of the video games market share and they are popular more than any other genre"
   ]
  },
  {
   "cell_type": "markdown",
   "id": "7e55ccb6",
   "metadata": {},
   "source": [
    "**-----------------------------------------------------------------------------------------------------------------------------------------------------------------------------------------------------------------**"
   ]
  },
  {
   "cell_type": "markdown",
   "id": "3fff43a1",
   "metadata": {},
   "source": [
    "NA_Sales, PAL_Sales & Japan_Sales"
   ]
  },
  {
   "cell_type": "markdown",
   "id": "2212c9a5",
   "metadata": {},
   "source": [
    "."
   ]
  },
  {
   "cell_type": "markdown",
   "id": "3db0079c",
   "metadata": {},
   "source": [
    "The average sales in each region"
   ]
  },
  {
   "cell_type": "code",
   "execution_count": null,
   "id": "ca51aa55",
   "metadata": {
    "scrolled": true
   },
   "outputs": [],
   "source": [
    "a=(clean_df['NA_Sales'].mean()*1000000)\n",
    "b=(clean_df['PAL_Sales'].mean()*1000000)\n",
    "c=(clean_df['Japan_Sales'].mean()*1000000)\n",
    "d=(clean_df['Other_Sales'].mean()*1000000)\n",
    "e=(clean_df['Total_Sales'].mean()*1000000)\n",
    "\n",
    "print(\"The average sales in North America =\", (f\"{a:,.3f}\"))\n",
    "print(\"The average sales in Europe =\",(f\"{b:,.3f}\"))\n",
    "print(\"The average sales in Japan =\",(f\"{c:,.3f}\"))\n",
    "print(\"The average sales in other regions =\",(f\"{d:,.3f}\"))\n",
    "print(\"The average sales globally =\",(f\"{e:,.3f}\"))"
   ]
  },
  {
   "cell_type": "markdown",
   "id": "0dea4812",
   "metadata": {},
   "source": [
    "**Conclusion:** The average game purchases in North America are higher than any other region"
   ]
  },
  {
   "cell_type": "markdown",
   "id": "97df2430",
   "metadata": {},
   "source": [
    "."
   ]
  },
  {
   "cell_type": "markdown",
   "id": "f2887eaa",
   "metadata": {},
   "source": [
    "**-----------------------------------------------------------------------------------------------------------------------------------------------------------------------------------------------------------------**"
   ]
  },
  {
   "cell_type": "markdown",
   "id": "cdde4d33",
   "metadata": {},
   "source": [
    "# Bivariate Analysis"
   ]
  },
  {
   "cell_type": "markdown",
   "id": "87efb40f",
   "metadata": {},
   "source": [
    "**-----------------------------------------------------------------------------------------------------------------------------------------------------------------------------------------------------------------**"
   ]
  },
  {
   "cell_type": "markdown",
   "id": "fe27bc2b",
   "metadata": {},
   "source": [
    "Years"
   ]
  },
  {
   "cell_type": "code",
   "execution_count": null,
   "id": "c249f1bf",
   "metadata": {},
   "outputs": [],
   "source": [
    "# Years with the most sales\n",
    "\n",
    "title = \"Sales by Release Year\"\n",
    "Year_sales = clean_df.groupby(\"Relese_Year\").sum()[\"Total_Sales\"].plot.bar(fontsize=18,color = '#ff0950',edgecolor='black',title=title,figsize=(20,10))\n",
    "Year_sales.title.set_size(40)\n",
    "Year_sales.set_ylabel(\"Sales in Billions\",fontsize=18)\n",
    "Year_sales.set_xlabel(\"release_year\",fontsize=18)\n",
    "\n",
    "# top 10 years with the highest total sales\n",
    "sales_year = clean_df.groupby(\"Relese_Year\").agg({\"Total_Sales\": pd.Series.sum})\n",
    "sales_year.nlargest(10, \"Total_Sales\")"
   ]
  },
  {
   "cell_type": "markdown",
   "id": "97e897ef",
   "metadata": {},
   "source": [
    "**Conclusion:** The years with the most sales are 1998, 2011 & 2007"
   ]
  },
  {
   "cell_type": "markdown",
   "id": "e24829e8",
   "metadata": {},
   "source": [
    "**-----------------------------------------------------------------------------------------------------------------------------------------------------------------------------------------------------------------**"
   ]
  },
  {
   "cell_type": "markdown",
   "id": "715e35ef",
   "metadata": {},
   "source": [
    "Month"
   ]
  },
  {
   "cell_type": "code",
   "execution_count": null,
   "id": "5663ab4f",
   "metadata": {
    "scrolled": true
   },
   "outputs": [],
   "source": [
    "# Month with the most sales\n",
    "\n",
    "title = \"Sales by Release Month\"\n",
    "Month_sales = clean_df.groupby(\"Relese_Month\").sum()[\"Total_Sales\"].plot.bar(fontsize=18,color = 'lawngreen',edgecolor='black',title=title,figsize=(20,10))\n",
    "Month_sales.title.set_size(40)\n",
    "Month_sales.set_ylabel(\"Sales in Billions\",fontsize=18)\n",
    "Month_sales.set_xlabel(\"Relese_Month\",fontsize=18)\n",
    "\n",
    "# top 10 Months with the highest total sales\n",
    "sales_month = clean_df.groupby(\"Relese_Month\").agg({\"Total_Sales\": pd.Series.sum})\n",
    "sales_month.nlargest(10, \"Total_Sales\")"
   ]
  },
  {
   "cell_type": "markdown",
   "id": "9f64b41e",
   "metadata": {},
   "source": [
    "**Conclusion:** The years with the the most sales are November, September & October"
   ]
  },
  {
   "cell_type": "markdown",
   "id": "74190c32",
   "metadata": {},
   "source": [
    "**-----------------------------------------------------------------------------------------------------------------------------------------------------------------------------------------------------------------**"
   ]
  },
  {
   "cell_type": "markdown",
   "id": "7bb957f6",
   "metadata": {},
   "source": [
    "Console"
   ]
  },
  {
   "cell_type": "code",
   "execution_count": null,
   "id": "d26ee2b6",
   "metadata": {
    "scrolled": true
   },
   "outputs": [],
   "source": [
    "#Sales from Total Global sales including Japan, Europe or North America\n",
    "\n",
    "title = \"Top 20 Consoles with the most Sales\"\n",
    "console_sales = clean_df.groupby(\"Console\")\\\n",
    "    .sum()\\\n",
    "    .sort_values(by=\"Total_Sales\", ascending=False)\\\n",
    "    .head(20)[\"Total_Sales\"]\\\n",
    "    .plot.bar(title=title,  color = 'mediumorchid',edgecolor='blue'   ,figsize=(20,10),fontsize=18)\n",
    "    \n",
    "console_sales.title.set_size(40)\n",
    "console_sales.set_ylabel(\"Sales in Billions\",fontsize=18)\n",
    "console_sales.set_xlabel(\"Console\",fontsize=18)\n",
    "plt.show()\n",
    "\n",
    "# Top 10 consoles with the most sales\n",
    "sales_console = clean_df.groupby(\"Console\").agg({\"Total_Sales\": pd.Series.sum})\n",
    "sales_console.nlargest(10, \"Total_Sales\")"
   ]
  },
  {
   "cell_type": "markdown",
   "id": "384adb41",
   "metadata": {},
   "source": [
    "**Conclusion:** The Consoles with the most sales are Xbox Series X & PC"
   ]
  },
  {
   "cell_type": "markdown",
   "id": "6ffdd272",
   "metadata": {},
   "source": [
    "**-----------------------------------------------------------------------------------------------------------------------------------------------------------------------------------------------------------------**"
   ]
  },
  {
   "cell_type": "code",
   "execution_count": null,
   "id": "8407bdff",
   "metadata": {
    "scrolled": false
   },
   "outputs": [],
   "source": [
    "#Sales from Global sales excluding Japan, Europe or North America\n",
    "\n",
    "title = \"Sales by Console\"\n",
    "\n",
    "console_sales1 = clean_df.groupby(\"Console\")\\\n",
    "    .sum()\\\n",
    "     [\"Other_Sales\"].plot.bar(title=title,color = 'red',edgecolor='blue'  ,fontsize=20,figsize=(20,10))\n",
    "console_sales1.title.set_size(30)\n",
    "console_sales1.set_ylabel(\"Sales in Billions\",fontsize=18)\n",
    "console_sales1.set_xlabel(\"Console\",fontsize=18)\n",
    "\n",
    "# Top 10 consoles with the most sales\n",
    "sales_console1 = clean_df.groupby(\"Console\").agg({\"Other_Sales\": pd.Series.sum})\n",
    "sales_console1.nlargest(10, \"Other_Sales\")"
   ]
  },
  {
   "cell_type": "markdown",
   "id": "c92a5732",
   "metadata": {},
   "source": [
    "**Conclusion:** The Consoles with the most sales Unrelated to sales in NA, Europe or Japan are Xbox Series X & PC"
   ]
  },
  {
   "cell_type": "markdown",
   "id": "940c1c18",
   "metadata": {},
   "source": [
    "**-----------------------------------------------------------------------------------------------------------------------------------------------------------------------------------------------------------------**"
   ]
  },
  {
   "cell_type": "markdown",
   "id": "cd68211b",
   "metadata": {},
   "source": [
    "Developer"
   ]
  },
  {
   "cell_type": "code",
   "execution_count": null,
   "id": "aa9785d1",
   "metadata": {},
   "outputs": [],
   "source": [
    "#Developers with the most sales\n",
    "\n",
    "title = \"Top 20 Developers in sales\"\n",
    "\n",
    "developer_sales = clean_df.groupby(\"Developer\")\\\n",
    "    .sum()\\\n",
    "    .sort_values(by=\"Total_Sales\", ascending=False)\\\n",
    "    .head(20)[\"Total_Sales\"]\\\n",
    "    .plot.bar(title=title,color ='green',edgecolor='gold'  ,figsize=(20,10),fontsize=18)\n",
    "    \n",
    "developer_sales.title.set_size(40)\n",
    "developer_sales.set_ylabel(\"Sales in Billions\",fontsize=18)\n",
    "developer_sales.set_xlabel(\"Developer\",fontsize=18)\n",
    "plt.show()\n",
    "\n",
    "sales_developer = clean_df.groupby(\"Developer\").agg({\"Total_Sales\": pd.Series.sum})\n",
    "sales_developer.nlargest(10, \"Total_Sales\")"
   ]
  },
  {
   "cell_type": "markdown",
   "id": "476b1a2b",
   "metadata": {},
   "source": [
    "**Conclusion:** The Developers with the most sales are Nintendo & Capcom "
   ]
  },
  {
   "cell_type": "markdown",
   "id": "c71de866",
   "metadata": {},
   "source": [
    "**-----------------------------------------------------------------------------------------------------------------------------------------------------------------------------------------------------------------**"
   ]
  },
  {
   "cell_type": "markdown",
   "id": "a5f62688",
   "metadata": {},
   "source": [
    "Publisher"
   ]
  },
  {
   "cell_type": "code",
   "execution_count": null,
   "id": "40bc432f",
   "metadata": {},
   "outputs": [],
   "source": [
    "#Publishers with the most sales\n",
    "\n",
    "title = \"Top 20 Publishres in sales\"\n",
    "\n",
    "Publisher_sales = clean_df.groupby(\"Publisher\")\\\n",
    "    .sum()\\\n",
    "    .sort_values(by=\"Total_Sales\", ascending=False)\\\n",
    "    .head(20)[\"Total_Sales\"]\\\n",
    "    .plot.bar(title=title, color = 'aquamarine',edgecolor='orange',figsize=(20,10),fontsize=18)\n",
    "    \n",
    "Publisher_sales.title.set_size(40)\n",
    "Publisher_sales.set_ylabel(\"Sales in Millions\",fontsize=18)\n",
    "Publisher_sales.set_xlabel(\"Publisher\",fontsize=18)\n",
    "\n",
    "\n",
    "sales_Publisher = clean_df.groupby(\"Publisher\").agg({\"Total_Sales\": pd.Series.sum})\n",
    "sales_Publisher.nlargest(10, \"Total_Sales\")"
   ]
  },
  {
   "cell_type": "markdown",
   "id": "68c806df",
   "metadata": {},
   "source": [
    "**Conclusion:** The Publishers with the most sales are Nintendo & Electronic Arts "
   ]
  },
  {
   "cell_type": "markdown",
   "id": "839c59c4",
   "metadata": {},
   "source": [
    ":"
   ]
  },
  {
   "cell_type": "markdown",
   "id": "89ff280e",
   "metadata": {},
   "source": [
    "**Conclusion from the last 2 graphs:**  Nintendo is one of the biggest Developer & Publisher company in the world"
   ]
  },
  {
   "cell_type": "markdown",
   "id": "94ace90b",
   "metadata": {},
   "source": [
    "**-----------------------------------------------------------------------------------------------------------------------------------------------------------------------------------------------------------------**"
   ]
  },
  {
   "cell_type": "markdown",
   "id": "b155980a",
   "metadata": {},
   "source": [
    "Genre"
   ]
  },
  {
   "cell_type": "code",
   "execution_count": null,
   "id": "d122f5f8",
   "metadata": {},
   "outputs": [],
   "source": [
    "#Genres with the most sales\n",
    "\n",
    "title = \"Top 20 Genres in sales\"\n",
    "\n",
    "genre_sales = clean_df.groupby(\"Genre\")\\\n",
    "    .sum()\\\n",
    "    .sort_values(by=\"Total_Sales\", ascending=False)\\\n",
    "    .head(20)[\"Total_Sales\"]\\\n",
    "    .plot.bar(title=title, color = '#91cccc',edgecolor='purple',figsize=(20,10),fontsize=18)\n",
    "    \n",
    "genre_sales.title.set_size(40)\n",
    "genre_sales.set_ylabel(\"Sales in Millions\",fontsize=18)\n",
    "genre_sales.set_xlabel(\"Genre\",fontsize=18)\n",
    "\n",
    "\n",
    "sales_genre = clean_df.groupby(\"Genre\").agg({\"Total_Sales\": pd.Series.sum})\n",
    "sales_genre.nlargest(10, \"Total_Sales\")"
   ]
  },
  {
   "cell_type": "markdown",
   "id": "db7f6e5b",
   "metadata": {},
   "source": [
    "**Conclusion:** The Genres with the most sales are Action-Adventure & Role-Playing"
   ]
  },
  {
   "cell_type": "markdown",
   "id": "5c9a0aeb",
   "metadata": {},
   "source": [
    "**-----------------------------------------------------------------------------------------------------------------------------------------------------------------------------------------------------------------**"
   ]
  },
  {
   "cell_type": "markdown",
   "id": "2566514d",
   "metadata": {},
   "source": [
    "Other Sales"
   ]
  },
  {
   "cell_type": "code",
   "execution_count": null,
   "id": "feb77fe8",
   "metadata": {},
   "outputs": [],
   "source": [
    "plt.figure(figsize=(12,6), dpi=200)\n",
    "sns.scatterplot(data=clean_df,\n",
    "                x=\"Relese_Year\",\n",
    "                y=\"Other_Sales\").set_title(\"Frequency of other sales by year\",fontsize=15)\n",
    "plt.show()"
   ]
  },
  {
   "cell_type": "markdown",
   "id": "9084b7fd",
   "metadata": {},
   "source": [
    "**Conclusion:** From the following scatterplot, we can see that most game belonging to 'other sales' made global sales of below roughly $1 million sales, \n",
    "with some exceptionally good ones going beyond that."
   ]
  },
  {
   "cell_type": "markdown",
   "id": "edcaab6b",
   "metadata": {},
   "source": [
    "**-----------------------------------------------------------------------------------------------------------------------------------------------------------------------------------------------------------------**"
   ]
  },
  {
   "cell_type": "markdown",
   "id": "63999e32",
   "metadata": {},
   "source": [
    "NA_Sales, PAL_Sales & Japan_Sales"
   ]
  },
  {
   "cell_type": "markdown",
   "id": "9a4ba374",
   "metadata": {},
   "source": [
    "."
   ]
  },
  {
   "cell_type": "markdown",
   "id": "31d5fbb4",
   "metadata": {},
   "source": [
    "Plots that Showing the distribution of sales by region"
   ]
  },
  {
   "cell_type": "code",
   "execution_count": null,
   "id": "bf20508e",
   "metadata": {},
   "outputs": [],
   "source": [
    "def Plots_by_year(title, sales, color):\n",
    "    plt.figure(figsize = (7,5), dpi= 100)\n",
    "    plt.title(title)\n",
    "    plt.xticks(rotation = 90)\n",
    "    sns.lineplot(x = 'Relese_Year', \n",
    "              y = sales,\n",
    "              color = color, \n",
    "              data = clean_df)\n",
    "    \n",
    "Plots_by_year('Year - Japan Sales', 'Japan_Sales', 'blue')"
   ]
  },
  {
   "cell_type": "code",
   "execution_count": null,
   "id": "7ba91dd7",
   "metadata": {},
   "outputs": [],
   "source": [
    "Plots_by_year('Year - EU Sales', 'PAL_Sales', 'orange')"
   ]
  },
  {
   "cell_type": "code",
   "execution_count": null,
   "id": "0e03b2d1",
   "metadata": {},
   "outputs": [],
   "source": [
    "Plots_by_year('Year - North America Sales', 'NA_Sales', 'purple')"
   ]
  },
  {
   "cell_type": "markdown",
   "id": "096a3a59",
   "metadata": {},
   "source": [
    "**Conclusion:** Sales in Europe peaked in the 2000s and on, while other regions peaked before the 2000s."
   ]
  },
  {
   "cell_type": "markdown",
   "id": "36802948",
   "metadata": {},
   "source": [
    "**-----------------------------------------------------------------------------------------------------------------------------------------------------------------------------------------------------------------**"
   ]
  },
  {
   "cell_type": "markdown",
   "id": "fc63447c",
   "metadata": {},
   "source": [
    "Top 5 games with the highest sales volume in each region"
   ]
  },
  {
   "cell_type": "code",
   "execution_count": null,
   "id": "16c52eeb",
   "metadata": {},
   "outputs": [],
   "source": [
    "Game = clean_df.Game\n",
    "Genre = clean_df.Genre\n",
    "Console= clean_df.Console\n",
    "PAL_Sales=clean_df.PAL_Sales\n",
    "Japan_Sales=clean_df.Japan_Sales\n",
    "NA_Sales=clean_df.NA_Sales\n",
    "\n",
    "#Top 5 games with the highest sales volume in eu\n",
    "\n",
    "dfSales0 = {'Game':Game,'Genre': Genre, \n",
    "'PAL_Sales':PAL_Sales,'Console':Console}\n",
    "dfSales0 = pd.DataFrame(dfSales0,columns = ['Game','Genre','Console','PAL_Sales'])\n",
    "dfbypal = dfSales0.nlargest(5, \"PAL_Sales\")\n",
    "dfbypal.head(5)\n",
    "\n",
    "\n",
    "#Top 5 games with the highest sales volume in japan\n",
    "\n",
    "dfSales1 = {'Game':Game,'Genre': Genre, \n",
    "'Japan_Sales':Japan_Sales,'Console':Console}\n",
    "dfSales1 = pd.DataFrame(dfSales1,columns = ['Game','Genre','Console','Japan_Sales'])\n",
    "dfbyjapan = dfSales1.nlargest(5, \"Japan_Sales\")\n",
    "dfbyjapan.head(5)\n",
    "\n",
    "\n",
    "#Top 5 games with the highest sales volume in north america\n",
    "\n",
    "dfSales2 = {'Game':Game,'Genre': Genre, \n",
    "'NA_Sales':NA_Sales,'Console':Console}\n",
    "dfSales2 = pd.DataFrame(dfSales2,columns = ['Game','Genre','Console','NA_Sales'])\n",
    "dfbyna = dfSales2.nlargest(5, \"NA_Sales\")\n",
    "dfbyna.head(5)"
   ]
  },
  {
   "cell_type": "markdown",
   "id": "73e67f01",
   "metadata": {},
   "source": [
    "-The PS Platform is the popular console in Japan and Europe. However, it is a different story in NA - the leading consoles are XBOX 360 \n",
    "    \n",
    "-The dominating Games is 'Call of Duty: Black Ops' in north america and Grand Theft Auto V in Europe\n",
    "\n",
    "-Sports is one of the leading genres in Japan and Europe, compared to NA which it's Action & Shooter"
   ]
  },
  {
   "cell_type": "markdown",
   "id": "aa2910bb",
   "metadata": {},
   "source": [
    "."
   ]
  },
  {
   "cell_type": "markdown",
   "id": "daa4e8bd",
   "metadata": {},
   "source": [
    "**-----------------------------------------------------------------------------------------------------------------------------------------------------------------------------------------------------------------**"
   ]
  },
  {
   "cell_type": "markdown",
   "id": "3620f7f3",
   "metadata": {},
   "source": [
    "# Multivariate Analysis"
   ]
  },
  {
   "cell_type": "markdown",
   "id": "2d786ced",
   "metadata": {},
   "source": [
    "**-----------------------------------------------------------------------------------------------------------------------------------------------------------------------------------------------------------------**"
   ]
  },
  {
   "cell_type": "markdown",
   "id": "2e8b7c8f",
   "metadata": {},
   "source": [
    "."
   ]
  },
  {
   "cell_type": "markdown",
   "id": "1d5948dc",
   "metadata": {},
   "source": [
    "Hits VS Non-Hits by genre"
   ]
  },
  {
   "cell_type": "code",
   "execution_count": null,
   "id": "5a8cb84a",
   "metadata": {},
   "outputs": [],
   "source": [
    "Genre_dist = clean_df[clean_df['Genre'].isin(clean_df.Genre.value_counts().head(15).index.tolist())]\n",
    "ax = sns.countplot(x='Genre', hue='Hit_Games', data=Genre_dist, palette='magma')\n",
    "ax.axes.set_title(\"Hits VS Non-Hits by genre\",fontsize=30)\n",
    "ax.set_xlabel(\"Genre\",fontsize=20)\n",
    "ax.set_ylabel(\"Amount\",fontsize=20)\n",
    "sns.set(rc = {'figure.figsize':(20,8)})\n",
    "ax.set_xticklabels(ax.get_xticklabels(),rotation=25)\n",
    "plt.show()"
   ]
  },
  {
   "cell_type": "markdown",
   "id": "8ee96f2b",
   "metadata": {},
   "source": [
    "**Conclusion:** The popularity  of Non-Hits are higher than Hits in almost any genre"
   ]
  },
  {
   "cell_type": "markdown",
   "id": "2c236ebb",
   "metadata": {},
   "source": [
    "**-----------------------------------------------------------------------------------------------------------------------------------------------------------------------------------------------------------------**"
   ]
  },
  {
   "cell_type": "code",
   "execution_count": null,
   "id": "3a6c237d",
   "metadata": {},
   "outputs": [],
   "source": [
    "#heatmap"
   ]
  },
  {
   "cell_type": "code",
   "execution_count": null,
   "id": "2e8bbc29",
   "metadata": {},
   "outputs": [],
   "source": [
    "plt.figure(figsize=(15, 10))\n",
    "sns.set(font_scale=1)\n",
    "sns.heatmap(comp_map, annot=True, fmt = '.1f')\n",
    "\n",
    "plt.xticks(fontsize=14)\n",
    "plt.yticks(fontsize=14)\n",
    "plt.show()"
   ]
  },
  {
   "cell_type": "markdown",
   "id": "e70d572a",
   "metadata": {},
   "source": [
    "**-----------------------------------------------------------------------------------------------------------------------------------------------------------------------------------------------------------------**"
   ]
  },
  {
   "cell_type": "markdown",
   "id": "2803ca0a",
   "metadata": {},
   "source": [
    "NA Sales, PAL Sales & Japan_Sales by Console"
   ]
  },
  {
   "cell_type": "markdown",
   "id": "2d4841d0",
   "metadata": {},
   "source": [
    "**-----------------------------------------------------------------------------------------------------------------------------------------------------------------------------------------------------------------**"
   ]
  },
  {
   "cell_type": "markdown",
   "id": "56610a3c",
   "metadata": {},
   "source": [
    "Grouping North American, Japan, European & Other region sales data per Console"
   ]
  },
  {
   "cell_type": "code",
   "execution_count": null,
   "id": "0479575f",
   "metadata": {},
   "outputs": [],
   "source": [
    "data = clean_df\n",
    "df3 = data.groupby(['Console'])\n",
    "val = df3['NA_Sales','PAL_Sales','Japan_Sales','Other_Sales'].aggregate(np.mean)\n",
    "val.plot(kind='bar',figsize=(15,5))\n",
    "plt.xlabel('Console',fontsize=16)\n",
    "plt.ylabel('Sale of games in each region',fontsize=16)\n",
    "plt.title('Sales per Console',fontsize=26)\n",
    "plt.show()"
   ]
  },
  {
   "cell_type": "code",
   "execution_count": null,
   "id": "51719680",
   "metadata": {},
   "outputs": [],
   "source": [
    "data = clean_df\n",
    "df3 = data.groupby(['Console'])\n",
    "val = df3['NA_Sales','PAL_Sales','Japan_Sales','Other_Sales'].aggregate(np.mean)\n",
    "plt.figure(figsize=(12,10))\n",
    "ax = sns.boxplot(data=val, orient='h')\n",
    "plt.xlabel('Sales per game',fontsize=16)\n",
    "plt.ylabel('Region',fontsize=16)\n",
    "plt.title('Distribution of sales per Console',fontsize=16)\n",
    "plt.show()"
   ]
  },
  {
   "cell_type": "markdown",
   "id": "8ba693b0",
   "metadata": {},
   "source": [
    "Distribution with percentages of the top 5 consoles by region"
   ]
  },
  {
   "cell_type": "code",
   "execution_count": null,
   "id": "5e9c0f2e",
   "metadata": {},
   "outputs": [],
   "source": [
    "explode = [0.1,0.1,0.1,0.1,0.1]\n",
    "colors = ['lightseagreen', 'mediumpurple', 'aquamarine', 'lawngreen', 'mediumorchid']\n",
    "\n",
    "def platform_pie(title, sales):\n",
    "    plt.title(title)\n",
    "    plt.pie(sales, \n",
    "          labels = platforms1,\n",
    "          wedgeprops=dict(width=0.2),\n",
    "          shadow = True,\n",
    "          colors = colors, \n",
    "          explode = explode, \n",
    "          startangle = 90, \n",
    "          autopct='%1.1f%%');"
   ]
  },
  {
   "cell_type": "code",
   "execution_count": null,
   "id": "69b7ed25",
   "metadata": {},
   "outputs": [],
   "source": [
    "platforms1 = list(clean_df['Console'].value_counts()[:5].to_dict().keys())\n",
    "sales_cols = ['NA_Sales', 'PAL_Sales', 'Japan_Sales', 'Other_Sales']\n",
    "global_sales = []\n",
    "na_sales = []\n",
    "pal_sales = []\n",
    "jp_sales = []\n",
    "other_sales = []\n",
    "for platform in platforms1:\n",
    "    global_sales.append(clean_df[clean_df['Console'] == platform]['Total_Sales'].sum())\n",
    "    na_sales.append(clean_df[clean_df['Console'] == platform]['NA_Sales'].sum())\n",
    "    pal_sales.append(clean_df[clean_df['Console'] == platform]['PAL_Sales'].sum())\n",
    "    jp_sales.append(clean_df[clean_df['Console'] == platform]['Japan_Sales'].sum())\n",
    "    other_sales.append(clean_df[clean_df['Console'] == platform]['Other_Sales'].sum())"
   ]
  },
  {
   "cell_type": "code",
   "execution_count": null,
   "id": "311e0657",
   "metadata": {},
   "outputs": [],
   "source": [
    "plt.figure(figsize= (10,10), dpi = 100)\n",
    "\n",
    "plt.subplot(2,2,1)\n",
    "platform_pie('Sales in North America'.upper(), na_sales)\n",
    "\n",
    "plt.subplot(2,2,2)\n",
    "platform_pie('Sales in Europe'.upper(), pal_sales)\n",
    "\n",
    "plt.subplot(2,2,3)\n",
    "platform_pie('Sales in Japan'.upper(), jp_sales)\n",
    "\n",
    "plt.subplot(2,2,4)\n",
    "platform_pie('Sales in Other countries'.upper(), other_sales)\n",
    "\n",
    "#Total sales in each region\n",
    "data = clean_df.groupby('Genre').sum().agg({'NA_Sales':'sum',\n",
    "                                            'PAL_Sales':'sum',\n",
    "                                            'Japan_Sales':'sum'})\n",
    "data"
   ]
  },
  {
   "cell_type": "markdown",
   "id": "2f00ea96",
   "metadata": {},
   "source": [
    "**-----------------------------------------------------------------------------------------------------------------------------------------------------------------------------------------------------------------**"
   ]
  },
  {
   "cell_type": "markdown",
   "id": "92ab6724",
   "metadata": {},
   "source": [
    "NA Sales, PAL Sales & Japan_Sales by Genre"
   ]
  },
  {
   "cell_type": "code",
   "execution_count": null,
   "id": "75c7edef",
   "metadata": {},
   "outputs": [],
   "source": [
    "#Grouping North American, Japan, European & Other region sales data as per Genre\n",
    "\n",
    "data = clean_df\n",
    "df3 = data.groupby(['Genre'])\n",
    "val = df3['NA_Sales','PAL_Sales','Japan_Sales','Other_Sales'].aggregate(np.mean)\n",
    "val.plot(kind='bar',figsize=(15,5))\n",
    "plt.xlabel('Genre',fontsize=16)\n",
    "plt.ylabel('Sale of games in each region',fontsize=16)\n",
    "plt.title('Sales per Genre for each region',fontsize=26)\n",
    "plt.show()\n",
    "\n",
    "Game = clean_df.Game\n",
    "Genre = clean_df.Genre\n",
    "Console= clean_df.Console\n",
    "PAL_Sales=clean_df.PAL_Sales\n",
    "Japan_Sales=clean_df.Japan_Sales\n",
    "NA_Sales=clean_df.NA_Sales\n",
    "\n",
    "#Genre with the highest total sales volume in each region\n",
    "dfSales3 = {'Game':Game,'Genre': Genre, \n",
    "'NA_Sales':NA_Sales,'Console':Console,'PAL_Sales':PAL_Sales,'Japan_Sales':Japan_Sales}\n",
    "dfSales3 = pd.DataFrame(dfSales3,columns = ['Game','Genre','Console','NA_Sales','PAL_Sales','Japan_Sales'])\n",
    "dfbygenre = dfSales3.groupby(by=['Genre']).sum()\n",
    "dfbygenre.head(18)"
   ]
  },
  {
   "cell_type": "markdown",
   "id": "9ffcee1c",
   "metadata": {},
   "source": [
    "**-----------------------------------------------------------------------------------------------------------------------------------------------------------------------------------------------------------------**"
   ]
  },
  {
   "cell_type": "markdown",
   "id": "9fa8539d",
   "metadata": {},
   "source": [
    "NA Sales, PAL Sales & Japan_Sales by Year"
   ]
  },
  {
   "cell_type": "markdown",
   "id": "f1a32f07",
   "metadata": {},
   "source": [
    "**-----------------------------------------------------------------------------------------------------------------------------------------------------------------------------------------------------------------**"
   ]
  },
  {
   "cell_type": "markdown",
   "id": "16fe2c77",
   "metadata": {},
   "source": [
    "Grouping sales data of each region yearly and plotting the same"
   ]
  },
  {
   "cell_type": "code",
   "execution_count": null,
   "id": "b583a623",
   "metadata": {},
   "outputs": [],
   "source": [
    "data = clean_df\n",
    "df1 = data.groupby(['Relese_Year'])\n",
    "plt.figure(figsize=(10,10), dpi=200)\n",
    "df1_mean = df1['NA_Sales','PAL_Sales','Japan_Sales','Other_Sales'].aggregate(np.mean)\n",
    "df1_mean.plot(figsize=(10,10))\n",
    "plt.title('Average sales by year for each region ', fontsize=20)"
   ]
  },
  {
   "cell_type": "markdown",
   "id": "a3763761",
   "metadata": {},
   "source": [
    "**-----------------------------------------------------------------------------------------------------------------------------------------------------------------------------------------------------------------**"
   ]
  },
  {
   "cell_type": "markdown",
   "id": "21a97c3c",
   "metadata": {},
   "source": [
    "Top 10 Sales per console based on each region"
   ]
  },
  {
   "cell_type": "code",
   "execution_count": null,
   "id": "0800234f",
   "metadata": {},
   "outputs": [],
   "source": [
    "#Grouping the north america sales based on each Console\n",
    "data1 = pd.DataFrame(clean_df.groupby(\"Console\")[[\"NA_Sales\"]].sum().sort_values(by=['NA_Sales'],ascending=[False]).reset_index())\n",
    "data1.rename(columns = {'Console':'NA_console'}, inplace = True)\n",
    "\n",
    "#Grouping the europe sales based on each Console\n",
    "data2 = pd.DataFrame(df.groupby(\"Console\")[[\"PAL_Sales\"]].sum().sort_values(by=['PAL_Sales'],ascending=[False]).reset_index())\n",
    "data2.rename(columns = {'Console':'PAL_console'}, inplace = True)\n",
    "\n",
    "#Grouping the japan sales based on each Console\n",
    "data3 = pd.DataFrame(df.groupby(\"Console\")[[\"Japan_Sales\"]].sum().sort_values(by=['Japan_Sales'],ascending=[False]).reset_index())\n",
    "data3.rename(columns = {'Console':'Japan_console'}, inplace = True)\n",
    "\n",
    "#Grouping the other region sales based on each Console\n",
    "data4 = pd.DataFrame(df.groupby(\"Console\")[[\"Other_Sales\"]].sum().sort_values(by=['Other_Sales'],ascending=[False]).reset_index())\n",
    "data4.rename(columns = {'Console':'Other_console'}, inplace = True)\n",
    "\n",
    "#Concatenating our datasets\n",
    "data=pd.concat([data1,data2,data3,data4],axis=1)\n",
    "data.head(10)"
   ]
  },
  {
   "cell_type": "markdown",
   "id": "a30b8de9",
   "metadata": {},
   "source": [
    "**-----------------------------------------------------------------------------------------------------------------------------------------------------------------------------------------------------------------**"
   ]
  },
  {
   "cell_type": "markdown",
   "id": "67e18a4c",
   "metadata": {},
   "source": [
    "# Inferences\n",
    "\n",
    "Based on our analysis, we can infferd the following conclusions:\n",
    "\n",
    "PS Platform, published in 1994, made the most sales worldwide. \n",
    "This is echoed by both Japan and EU regions. However, it is a different story in NA,\n",
    "with Call of Duty: Black Ops dominating in north america and Grand Theft Auto V in Europe\n",
    "\n",
    "50% of top 10 games utilized the PS Platform, making it one of the most successful consoles. \n",
    "This could be because of the fact that the PS system was one of the most innovative consoles of its time \n",
    "\n",
    "\n",
    "Action, Sports and Role-Playing are the most popular genres with high game titles as well as high global sales made\n",
    "\n",
    "Nintendo snatched the spot for the Publisher that made the most global sales. \n",
    "Unsurprising is the fact that the top sales by developer is Nintendo!"
   ]
  },
  {
   "cell_type": "markdown",
   "id": "7da4f594",
   "metadata": {},
   "source": [
    "**-----------------------------------------------------------------------------------------------------------------------------------------------------------------------------------------------------------------**"
   ]
  },
  {
   "cell_type": "markdown",
   "id": "fcc79c70",
   "metadata": {},
   "source": [
    "**-----------------------------------------------------------------------------------------------------------------------------------------------------------------------------------------------------------------**"
   ]
  }
 ],
 "metadata": {
  "kernelspec": {
   "display_name": "Python 3 (ipykernel)",
   "language": "python",
   "name": "python3"
  },
  "language_info": {
   "codemirror_mode": {
    "name": "ipython",
    "version": 3
   },
   "file_extension": ".py",
   "mimetype": "text/x-python",
   "name": "python",
   "nbconvert_exporter": "python",
   "pygments_lexer": "ipython3",
   "version": "3.9.7"
  }
 },
 "nbformat": 4,
 "nbformat_minor": 5
}
