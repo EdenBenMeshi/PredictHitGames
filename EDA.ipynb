{
 "cells": [
  {
   "cell_type": "code",
   "execution_count": null,
   "id": "28bbd613",
   "metadata": {},
   "outputs": [],
   "source": [
    "#Imports for the project\n",
    "import pandas as pd\n",
    "import matplotlib as mpl\n",
    "import numpy as np\n",
    "from matplotlib import pyplot as plt\n",
    "%matplotlib inline\n",
    "import warnings\n",
    "warnings.filterwarnings(\"ignore\")"
   ]
  },
  {
   "cell_type": "code",
   "execution_count": null,
   "id": "8e3a8d8c",
   "metadata": {},
   "outputs": [],
   "source": [
    "#Load the CSV into a DataFrame\n",
    "df = pd.read_csv(r'clean_data.csv')\n",
    "\n",
    "#A copy of the data for backup\n",
    "clean_df = df.iloc[:,1:].copy()"
   ]
  },
  {
   "cell_type": "code",
   "execution_count": null,
   "id": "69d853f5",
   "metadata": {},
   "outputs": [],
   "source": [
    "plt.rcParams.update({'figure.figsize':(7,5), 'figure.dpi':100})\n",
    "plt.hist(new_df.VGChartz_Score, bins=50)\n",
    "plt.gca().set(title='VGChartz Score Frequency \\n\\n', ylabel='Frequency',xlabel='VGChartz_Score');\n",
    "plt.show()"
   ]
  },
  {
   "cell_type": "code",
   "execution_count": null,
   "id": "db5a7cba",
   "metadata": {},
   "outputs": [],
   "source": [
    "plt.rcParams.update({'figure.figsize':(7,5), 'figure.dpi':100})\n",
    "plt.hist(new_df.Critic_Score, bins=50)\n",
    "plt.gca().set(title='Critic Score Frequency \\n\\n', ylabel='Frequency',xlabel='Critic_Score');\n",
    "plt.show()"
   ]
  },
  {
   "cell_type": "code",
   "execution_count": null,
   "id": "fac14ff0",
   "metadata": {},
   "outputs": [],
   "source": [
    "plt.rcParams.update({'figure.figsize':(7,5), 'figure.dpi':100})\n",
    "plt.hist(new_df.User_Score, bins=50)\n",
    "plt.gca().set(title='User Score Frequency \\n\\n', ylabel='Frequency',xlabel='User_Score');\n",
    "plt.show()"
   ]
  },
  {
   "cell_type": "code",
   "execution_count": null,
   "id": "9cc43a3c",
   "metadata": {},
   "outputs": [],
   "source": [
    "plt.rcParams.update({'figure.figsize':(7,5), 'figure.dpi':100})\n",
    "plt.hist(new_df.NA_Sales, bins=50)\n",
    "plt.gca().set(title='NA Sales Frequency \\n\\n', ylabel='Frequency',xlabel='NA_Sales');\n",
    "plt.show()"
   ]
  },
  {
   "cell_type": "code",
   "execution_count": null,
   "id": "8f691896",
   "metadata": {},
   "outputs": [],
   "source": [
    "plt.rcParams.update({'figure.figsize':(7,5), 'figure.dpi':100})\n",
    "plt.hist(new_df.PAL_Sales, bins=50)\n",
    "plt.gca().set(title='PAL Sales Frequency \\n\\n', ylabel='Frequency',xlabel='PAL_Sales');\n",
    "plt.show()"
   ]
  },
  {
   "cell_type": "code",
   "execution_count": null,
   "id": "eb025ff1",
   "metadata": {},
   "outputs": [],
   "source": [
    "plt.rcParams.update({'figure.figsize':(7,5), 'figure.dpi':100})\n",
    "plt.hist(new_df.Japan_Sales, bins=50)\n",
    "plt.gca().set(title='Japan Sales Frequency \\n\\n', ylabel='Frequency',xlabel='Japan_Sales');\n",
    "plt.show()"
   ]
  },
  {
   "cell_type": "code",
   "execution_count": null,
   "id": "ad598f4b",
   "metadata": {},
   "outputs": [],
   "source": [
    "plt.rcParams.update({'figure.figsize':(7,5), 'figure.dpi':100})\n",
    "plt.hist(new_df.Other_Sales, bins=50)\n",
    "plt.gca().set(title='Other Sales Frequency \\n\\n', ylabel='Frequency',xlabel='Other_Sales');\n",
    "plt.show()"
   ]
  },
  {
   "cell_type": "code",
   "execution_count": null,
   "id": "d7cfccc4",
   "metadata": {},
   "outputs": [],
   "source": [
    "plt.rcParams.update({'figure.figsize':(7,5), 'figure.dpi':100})\n",
    "plt.hist(new_df.Total_Sales, bins=50)\n",
    "plt.gca().set(title='Total Sales Frequency \\n\\n', ylabel='Frequency',xlabel='Total_Sales');\n",
    "plt.show()"
   ]
  },
  {
   "cell_type": "code",
   "execution_count": null,
   "id": "67394180",
   "metadata": {},
   "outputs": [],
   "source": []
  },
  {
   "cell_type": "code",
   "execution_count": null,
   "id": "3c011c63",
   "metadata": {},
   "outputs": [],
   "source": [
    "fig = plt.figure(figsize =(10, 7))\n",
    " \n",
    "# Creating plot\n",
    "plt.boxplot(new_df['Total_Sales'])\n",
    " \n",
    "# show plot\n",
    "plt.show()"
   ]
  },
  {
   "cell_type": "code",
   "execution_count": null,
   "id": "8effb9d2",
   "metadata": {},
   "outputs": [],
   "source": [
    "\n",
    "# month = range(1,13)\n",
    "x = new_df.groupby('Relese_Month').sum()\n",
    "\n",
    "plt.bar(month,x['Total_Sales'])\n",
    "# plt.xticks(month)\n",
    "labels,location = plt.yticks()\n",
    "plt.yticks(labels,(labels/1000000).astype(int))\n",
    "plt.gca().set(title='Relese Year Frequency \\n\\n', ylabel=\"Total_Sales\",xlabel='sales in million USD');\n",
    "plt.show()\n",
    "# plt.xlabel=('Total_Sales')\n",
    "# plt.ylabel=(\"sales in million USD\")\n",
    "# plt.show"
   ]
  },
  {
   "cell_type": "code",
   "execution_count": null,
   "id": "89967967",
   "metadata": {},
   "outputs": [],
   "source": [
    "plt.rcParams.update({'figure.figsize':(7,5), 'figure.dpi':100})\n",
    "plt.hist(new_df.Relese_Year, bins=50)\n",
    "plt.gca().set(title='Relese Year Frequency \\n\\n', ylabel='Frequency',xlabel='Relese_Year');\n",
    "plt.show()1"
   ]
  },
  {
   "cell_type": "code",
   "execution_count": null,
   "id": "1df1f80d",
   "metadata": {},
   "outputs": [],
   "source": [
    "fig = plt.figure(figsize =(10, 7))\n",
    " \n",
    "# Creating plot\n",
    "plt.boxplot(new_df['Total_Sales'])\n",
    " \n",
    "# show plot\n",
    "plt.show()"
   ]
  },
  {
   "cell_type": "code",
   "execution_count": null,
   "id": "9cefe21c",
   "metadata": {},
   "outputs": [],
   "source": [
    "new_df.Japan_Sales.describe()"
   ]
  },
  {
   "cell_type": "code",
   "execution_count": null,
   "id": "f22d1953",
   "metadata": {},
   "outputs": [],
   "source": [
    "new_df.PAL_Sales.describe()"
   ]
  },
  {
   "cell_type": "code",
   "execution_count": null,
   "id": "bdfdf553",
   "metadata": {},
   "outputs": [],
   "source": [
    "new_df.Total_Sales.describe()"
   ]
  },
  {
   "cell_type": "code",
   "execution_count": null,
   "id": "80a33723",
   "metadata": {},
   "outputs": [],
   "source": [
    "NA_Sales"
   ]
  },
  {
   "cell_type": "code",
   "execution_count": null,
   "id": "6f1e453b",
   "metadata": {},
   "outputs": [],
   "source": [
    "mycols = [\"NA_Sales\",\"PAL_Sales\",\"Japan_Sales\"]\n",
    "all_outlier_rows = []\n",
    "for col in mycols :        \n",
    "        Q1 = np.percentile(df[col], 25)\n",
    "        Q3 = np.percentile(df[col], 75)\n",
    "        IQR = Q3 - Q1\n",
    "        IQR_range = 1.5 * IQR\n",
    "        col_outlier = new_df[(new_df[col] < Q1 - IQR_range) | \n",
    "                              (new_df[col] > Q3 + IQR_range )].index\n",
    "        all_outlier_rows.extend(col_outlier)\n"
   ]
  },
  {
   "cell_type": "code",
   "execution_count": null,
   "id": "bd9fc372",
   "metadata": {},
   "outputs": [],
   "source": [
    "len(all_outlier_rows)"
   ]
  },
  {
   "cell_type": "code",
   "execution_count": null,
   "id": "5977d3cf",
   "metadata": {},
   "outputs": [],
   "source": [
    "df[\"Console\"].value_counts().plot(kind = 'bar')"
   ]
  },
  {
   "cell_type": "code",
   "execution_count": null,
   "id": "5f33f82f",
   "metadata": {},
   "outputs": [],
   "source": [
    "df[\"Console\"].value_counts().plot(kind = 'pie')"
   ]
  },
  {
   "cell_type": "code",
   "execution_count": null,
   "id": "1cafdf43",
   "metadata": {},
   "outputs": [],
   "source": [
    "plt.scatter(df.Console, df.Genre)"
   ]
  },
  {
   "cell_type": "code",
   "execution_count": null,
   "id": "45a4cb9a",
   "metadata": {},
   "outputs": [],
   "source": []
  },
  {
   "cell_type": "code",
   "execution_count": null,
   "id": "1e587663",
   "metadata": {},
   "outputs": [],
   "source": []
  },
  {
   "cell_type": "code",
   "execution_count": null,
   "id": "6adb18b6",
   "metadata": {},
   "outputs": [],
   "source": []
  }
 ],
 "metadata": {
  "kernelspec": {
   "display_name": "Python 3 (ipykernel)",
   "language": "python",
   "name": "python3"
  },
  "language_info": {
   "codemirror_mode": {
    "name": "ipython",
    "version": 3
   },
   "file_extension": ".py",
   "mimetype": "text/x-python",
   "name": "python",
   "nbconvert_exporter": "python",
   "pygments_lexer": "ipython3",
   "version": "3.9.7"
  }
 },
 "nbformat": 4,
 "nbformat_minor": 5
}
