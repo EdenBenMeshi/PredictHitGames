{
 "cells": [
  {
   "cell_type": "markdown",
   "id": "5d9ce027",
   "metadata": {},
   "source": [
    "# Editing Data"
   ]
  },
  {
   "cell_type": "markdown",
   "id": "20555f1f",
   "metadata": {},
   "source": [
    "Imports for the project"
   ]
  },
  {
   "cell_type": "code",
   "execution_count": 51,
   "id": "825017f2",
   "metadata": {},
   "outputs": [],
   "source": [
    "import pandas as pd\n",
    "import matplotlib as mpl\n",
    "import numpy as np\n",
    "from matplotlib import pyplot as plt\n",
    "%matplotlib inline\n",
    "import warnings\n",
    "warnings.filterwarnings(\"ignore\")"
   ]
  },
  {
   "cell_type": "markdown",
   "id": "4e61bae9",
   "metadata": {},
   "source": [
    "Load the CSV into a DataFrame"
   ]
  },
  {
   "cell_type": "code",
   "execution_count": 52,
   "id": "fdc6d59b",
   "metadata": {},
   "outputs": [],
   "source": [
    "df = pd.read_csv(r'games.csv')"
   ]
  },
  {
   "cell_type": "code",
   "execution_count": 53,
   "id": "820bbb8b",
   "metadata": {},
   "outputs": [
    {
     "data": {
      "text/plain": [
       "(61326, 18)"
      ]
     },
     "execution_count": 53,
     "metadata": {},
     "output_type": "execute_result"
    }
   ],
   "source": [
    "df.shape"
   ]
  },
  {
   "cell_type": "markdown",
   "id": "5e8bb2d6",
   "metadata": {},
   "source": [
    "A copy of the data for backup"
   ]
  },
  {
   "cell_type": "code",
   "execution_count": 54,
   "id": "7cebb39a",
   "metadata": {},
   "outputs": [],
   "source": [
    "new_df = df.iloc[:,1:].copy()"
   ]
  },
  {
   "cell_type": "code",
   "execution_count": 55,
   "id": "49ae20dc",
   "metadata": {
    "scrolled": false
   },
   "outputs": [
    {
     "name": "stdout",
     "output_type": "stream",
     "text": [
      "<class 'pandas.core.frame.DataFrame'>\n",
      "RangeIndex: 61326 entries, 0 to 61325\n",
      "Data columns (total 17 columns):\n",
      " #   Column          Non-Null Count  Dtype  \n",
      "---  ------          --------------  -----  \n",
      " 0   Game            61326 non-null  object \n",
      " 1   Pos             61326 non-null  int64  \n",
      " 2   Genre           61326 non-null  object \n",
      " 3   Console         61326 non-null  object \n",
      " 4   Publisher       61326 non-null  object \n",
      " 5   Developer       61300 non-null  object \n",
      " 6   VGChartz Score  1216 non-null   float64\n",
      " 7   Critic Score    6554 non-null   float64\n",
      " 8   User Score      391 non-null    float64\n",
      " 9   Total Shipped   3842 non-null   object \n",
      " 10  Total Sales     18918 non-null  object \n",
      " 11  NA Sales        12639 non-null  object \n",
      " 12  PAL Sales       12824 non-null  object \n",
      " 13  Japan Sales     6794 non-null   object \n",
      " 14  Other_Sales     15163 non-null  object \n",
      " 15  Release_Date    56668 non-null  object \n",
      " 16  Last_Update     15078 non-null  object \n",
      "dtypes: float64(3), int64(1), object(13)\n",
      "memory usage: 8.0+ MB\n"
     ]
    }
   ],
   "source": [
    "new_df.info()"
   ]
  },
  {
   "cell_type": "markdown",
   "id": "edbef5ea",
   "metadata": {},
   "source": [
    "When the value Null appears in both 'Total Shipped' & 'total Sales' fields - we delete these rows\n",
    "we must provide data in at least one of the fields as part of our prediction question"
   ]
  },
  {
   "cell_type": "code",
   "execution_count": 56,
   "id": "40f1f301",
   "metadata": {},
   "outputs": [],
   "source": [
    "new_df.dropna(subset=['Total Shipped','Total Sales'], inplace = True ,how='all')"
   ]
  },
  {
   "cell_type": "markdown",
   "id": "ed57a90a",
   "metadata": {},
   "source": [
    "After checking thr data we saw a small amount of Null's values,\n",
    "so we decided to delete rows when both of the fields consist Null value - it doesn't harm in our data processing"
   ]
  },
  {
   "cell_type": "code",
   "execution_count": 57,
   "id": "e80f3a97",
   "metadata": {},
   "outputs": [],
   "source": [
    "new_df.dropna(subset=['Release_Date','Last_Update'], inplace = True ,how='all')\n",
    "new_df.dropna(subset=['Developer'], inplace = True)"
   ]
  },
  {
   "cell_type": "markdown",
   "id": "3005ea68",
   "metadata": {},
   "source": [
    "Critical fields for our predict question,\n",
    "therefore when the data missing - irrelevant"
   ]
  },
  {
   "cell_type": "code",
   "execution_count": 58,
   "id": "4e3f5f2f",
   "metadata": {},
   "outputs": [],
   "source": [
    "new_df.dropna(subset=['Game'], inplace = True)\n",
    "new_df.dropna(subset=['Console'], inplace = True)"
   ]
  },
  {
   "cell_type": "markdown",
   "id": "316818c3",
   "metadata": {},
   "source": [
    "Replacing the fields values with an empty value to unify them and then deleting the irrelevant fields for prediction efficiency"
   ]
  },
  {
   "cell_type": "code",
   "execution_count": 59,
   "id": "eb557959",
   "metadata": {},
   "outputs": [],
   "source": [
    "new_df['Total Shipped'] = new_df['Total Shipped'].fillna(\"\")\n",
    "new_df['Total Sales'] = new_df['Total Sales'].fillna(\"\")\n",
    "new_df['Total_Sales']= new_df['Total Shipped'] + new_df['Total Sales']"
   ]
  },
  {
   "cell_type": "markdown",
   "id": "1ce6c574",
   "metadata": {},
   "source": [
    "Delete the 2 fields after merging"
   ]
  },
  {
   "cell_type": "code",
   "execution_count": 60,
   "id": "5886595f",
   "metadata": {},
   "outputs": [],
   "source": [
    "del new_df['Total Sales']\n",
    "del new_df['Total Shipped']"
   ]
  },
  {
   "cell_type": "markdown",
   "id": "73ef3716",
   "metadata": {},
   "source": [
    "Calaulates the amount of duplicates in 'Game'&'Console"
   ]
  },
  {
   "cell_type": "code",
   "execution_count": 61,
   "id": "588e2e71",
   "metadata": {},
   "outputs": [
    {
     "data": {
      "text/plain": [
       "5160"
      ]
     },
     "execution_count": 61,
     "metadata": {},
     "output_type": "execute_result"
    }
   ],
   "source": [
    "new_df.duplicated(['Game','Console']).sum()"
   ]
  },
  {
   "cell_type": "markdown",
   "id": "dd4cedb7",
   "metadata": {},
   "source": [
    "Summing & sorting the amount of Null's, then deleted the rows with the highest amount of Null's values and drop duplicates"
   ]
  },
  {
   "cell_type": "code",
   "execution_count": 62,
   "id": "52e0d4ad",
   "metadata": {},
   "outputs": [],
   "source": [
    "new_df['sum_of_null'] = new_df.apply(lambda x: x.isna().sum(), axis=1)\n",
    "new_df = new_df.sort_values(by=['sum_of_null']).drop_duplicates(['Game','Console'], keep='first').sort_index().reset_index(drop=True)\n",
    "del new_df['sum_of_null']"
   ]
  },
  {
   "cell_type": "markdown",
   "id": "ab9e22e9",
   "metadata": {},
   "source": [
    "Checking there are no duplicates"
   ]
  },
  {
   "cell_type": "code",
   "execution_count": 63,
   "id": "1a409ebb",
   "metadata": {},
   "outputs": [
    {
     "data": {
      "text/plain": [
       "0"
      ]
     },
     "execution_count": 63,
     "metadata": {},
     "output_type": "execute_result"
    }
   ],
   "source": [
    "new_df.duplicated(['Game','Console']).sum()"
   ]
  },
  {
   "cell_type": "markdown",
   "id": "cef32b6a",
   "metadata": {},
   "source": [
    "Due to the multiplicity of missing values, we have reset all the Null values"
   ]
  },
  {
   "cell_type": "code",
   "execution_count": 64,
   "id": "57ac9fee",
   "metadata": {},
   "outputs": [],
   "source": [
    "new_df.drop(['VGChartz Score','Critic Score','User Score'],axis=1, inplace = True)\n",
    "new_df['NA Sales'] = new_df['NA Sales'].fillna(0)\n",
    "new_df['PAL Sales'] = new_df['PAL Sales'].fillna(0)\n",
    "new_df['Japan Sales'] = new_df['Japan Sales'].fillna(0)\n",
    "new_df['Other_Sales'] = new_df['Other_Sales'].fillna(0)\n",
    "new_df['Release_Date'] = new_df['Release_Date'].fillna(new_df['Last_Update'])\n",
    "del new_df['Last_Update']"
   ]
  },
  {
   "cell_type": "markdown",
   "id": "d0c153e2",
   "metadata": {},
   "source": [
    "change total sales to integer  for example \"51.00m\" -> 51,000,000"
   ]
  },
  {
   "cell_type": "code",
   "execution_count": 65,
   "id": "fced58e7",
   "metadata": {},
   "outputs": [],
   "source": [
    "def func(x):\n",
    "    if (type(x) != str):\n",
    "        return 0\n",
    "    result = int(''.join(filter(str.isdigit, x))) * 10000\n",
    "    return result\n",
    "new_df['NA Sales'] = new_df.apply(lambda row: func(row['NA Sales']),axis=1)\n",
    "new_df['PAL Sales'] = new_df.apply(lambda row: func(row['PAL Sales']),axis=1)\n",
    "new_df['Japan Sales'] = new_df.apply(lambda row: func(row['Japan Sales']),axis=1)\n",
    "new_df['Other_Sales'] = new_df.apply(lambda row: func(row['Other_Sales']),axis=1)\n",
    "new_df['Total_Sales'] = new_df.apply(lambda row: func(row['Total_Sales']),axis=1)\n",
    "new_df = new_df.rename(columns = {'NA Sales' : 'NA_Sales','PAL Sales' : 'PAL_Sales','Japan Sales': 'Japan_Sales','User Score':'User_Score','Critic Score' :'Critic_Score' ,'VGChartz Score':'VGChartz_Score' })"
   ]
  },
  {
   "cell_type": "code",
   "execution_count": 66,
   "id": "8b5a6678",
   "metadata": {},
   "outputs": [
    {
     "data": {
      "text/plain": [
       "170000.0"
      ]
     },
     "execution_count": 66,
     "metadata": {},
     "output_type": "execute_result"
    }
   ],
   "source": [
    "new_df['Total_Sales'].median()"
   ]
  },
  {
   "cell_type": "markdown",
   "id": "0e9d8867",
   "metadata": {},
   "source": [
    "Replacing the month values to numeric values and splitting the release_date field for the machine learning phase"
   ]
  },
  {
   "cell_type": "code",
   "execution_count": 67,
   "id": "a6f29de5",
   "metadata": {},
   "outputs": [],
   "source": [
    "test = {\"Jan\" :1,\n",
    "        \"Feb\" :2,\n",
    "        \"Mar\" :3,\n",
    "        \"Apr\" :4,\n",
    "        \"May\" :5,\n",
    "        \"Jun\" :6,\n",
    "        \"Jul\" :7,\n",
    "        \"Aug\" :8,\n",
    "        \"Sep\" :9,\n",
    "        \"Oct\" :10,\n",
    "        \"Nov\" :11,\n",
    "        \"Dec\" :12}\n",
    "def str_to_month(date):\n",
    "    month = date.split(\" \")[1]\n",
    "    \n",
    "    return test[month] \n",
    "\n",
    "def str_to_year(date):\n",
    "    year = int(date.split(\" \")[2])\n",
    "    if (year > 30):\n",
    "        return year + 1900\n",
    "    else:\n",
    "        return year + 2000\n",
    "    \n",
    "new_df['Relese_Month'] = new_df.apply(lambda row: str_to_month(row['Release_Date']),axis=1)\n",
    "new_df['Relese_Year'] = new_df.apply(lambda row: str_to_year(row['Release_Date']),axis=1)\n",
    "del new_df['Release_Date']"
   ]
  },
  {
   "cell_type": "markdown",
   "id": "2a91d937",
   "metadata": {},
   "source": [
    "Delete all games released before 1980"
   ]
  },
  {
   "cell_type": "code",
   "execution_count": 68,
   "id": "e83a8816",
   "metadata": {},
   "outputs": [],
   "source": [
    "new_df.drop(new_df[new_df.Relese_Year < 1980].index, inplace=True)"
   ]
  },
  {
   "cell_type": "markdown",
   "id": "ee38e1ac",
   "metadata": {},
   "source": [
    "add column of Hit games and insert '1' for every game that have total_sales greater then 1m"
   ]
  },
  {
   "cell_type": "code",
   "execution_count": 69,
   "id": "7c3e20fd",
   "metadata": {},
   "outputs": [],
   "source": [
    "def hit_games(sales):\n",
    "    if (sales >= 1000000):\n",
    "        return 1\n",
    "    else:\n",
    "        return 0\n",
    "new_df['Hit_Games'] = new_df.apply(lambda row: hit_games(row['Total_Sales']),axis=1)"
   ]
  },
  {
   "cell_type": "code",
   "execution_count": 70,
   "id": "3c2a8311",
   "metadata": {
    "scrolled": false
   },
   "outputs": [
    {
     "name": "stdout",
     "output_type": "stream",
     "text": [
      "<class 'pandas.core.frame.DataFrame'>\n",
      "Int64Index: 17487 entries, 0 to 17509\n",
      "Data columns (total 14 columns):\n",
      " #   Column        Non-Null Count  Dtype \n",
      "---  ------        --------------  ----- \n",
      " 0   Game          17487 non-null  object\n",
      " 1   Pos           17487 non-null  int64 \n",
      " 2   Genre         17487 non-null  object\n",
      " 3   Console       17487 non-null  object\n",
      " 4   Publisher     17487 non-null  object\n",
      " 5   Developer     17487 non-null  object\n",
      " 6   NA_Sales      17487 non-null  int64 \n",
      " 7   PAL_Sales     17487 non-null  int64 \n",
      " 8   Japan_Sales   17487 non-null  int64 \n",
      " 9   Other_Sales   17487 non-null  int64 \n",
      " 10  Total_Sales   17487 non-null  int64 \n",
      " 11  Relese_Month  17487 non-null  int64 \n",
      " 12  Relese_Year   17487 non-null  int64 \n",
      " 13  Hit_Games     17487 non-null  int64 \n",
      "dtypes: int64(9), object(5)\n",
      "memory usage: 2.0+ MB\n"
     ]
    }
   ],
   "source": [
    "new_df.info()"
   ]
  },
  {
   "cell_type": "code",
   "execution_count": 71,
   "id": "effe8221",
   "metadata": {},
   "outputs": [
    {
     "data": {
      "text/plain": [
       "(17487, 14)"
      ]
     },
     "execution_count": 71,
     "metadata": {},
     "output_type": "execute_result"
    }
   ],
   "source": [
    "new_df.shape"
   ]
  },
  {
   "cell_type": "code",
   "execution_count": 72,
   "id": "5a3f525e",
   "metadata": {},
   "outputs": [
    {
     "data": {
      "text/html": [
       "<div>\n",
       "<style scoped>\n",
       "    .dataframe tbody tr th:only-of-type {\n",
       "        vertical-align: middle;\n",
       "    }\n",
       "\n",
       "    .dataframe tbody tr th {\n",
       "        vertical-align: top;\n",
       "    }\n",
       "\n",
       "    .dataframe thead th {\n",
       "        text-align: right;\n",
       "    }\n",
       "</style>\n",
       "<table border=\"1\" class=\"dataframe\">\n",
       "  <thead>\n",
       "    <tr style=\"text-align: right;\">\n",
       "      <th></th>\n",
       "      <th>Game</th>\n",
       "      <th>Pos</th>\n",
       "      <th>Genre</th>\n",
       "      <th>Console</th>\n",
       "      <th>Publisher</th>\n",
       "      <th>Developer</th>\n",
       "      <th>NA_Sales</th>\n",
       "      <th>PAL_Sales</th>\n",
       "      <th>Japan_Sales</th>\n",
       "      <th>Other_Sales</th>\n",
       "      <th>Total_Sales</th>\n",
       "      <th>Relese_Month</th>\n",
       "      <th>Relese_Year</th>\n",
       "      <th>Hit_Games</th>\n",
       "    </tr>\n",
       "  </thead>\n",
       "  <tbody>\n",
       "    <tr>\n",
       "      <th>0</th>\n",
       "      <td>God of War</td>\n",
       "      <td>1</td>\n",
       "      <td>Action</td>\n",
       "      <td>Series</td>\n",
       "      <td>Sony Computer Entertainment</td>\n",
       "      <td>SIE Santa Monica Studio</td>\n",
       "      <td>0</td>\n",
       "      <td>0</td>\n",
       "      <td>0</td>\n",
       "      <td>0</td>\n",
       "      <td>51000000</td>\n",
       "      <td>3</td>\n",
       "      <td>2005</td>\n",
       "      <td>1</td>\n",
       "    </tr>\n",
       "    <tr>\n",
       "      <th>1</th>\n",
       "      <td>Warriors</td>\n",
       "      <td>2</td>\n",
       "      <td>Action</td>\n",
       "      <td>Series</td>\n",
       "      <td>KOEI</td>\n",
       "      <td>Omega Force</td>\n",
       "      <td>0</td>\n",
       "      <td>0</td>\n",
       "      <td>0</td>\n",
       "      <td>0</td>\n",
       "      <td>47820000</td>\n",
       "      <td>6</td>\n",
       "      <td>1997</td>\n",
       "      <td>1</td>\n",
       "    </tr>\n",
       "    <tr>\n",
       "      <th>2</th>\n",
       "      <td>Devil May Cry</td>\n",
       "      <td>3</td>\n",
       "      <td>Action</td>\n",
       "      <td>Series</td>\n",
       "      <td>Capcom</td>\n",
       "      <td>Capcom</td>\n",
       "      <td>0</td>\n",
       "      <td>0</td>\n",
       "      <td>0</td>\n",
       "      <td>0</td>\n",
       "      <td>25200000</td>\n",
       "      <td>10</td>\n",
       "      <td>2001</td>\n",
       "      <td>1</td>\n",
       "    </tr>\n",
       "    <tr>\n",
       "      <th>3</th>\n",
       "      <td>Dynasty Warriors</td>\n",
       "      <td>4</td>\n",
       "      <td>Action</td>\n",
       "      <td>Series</td>\n",
       "      <td>KOEI</td>\n",
       "      <td>Omega Force</td>\n",
       "      <td>0</td>\n",
       "      <td>0</td>\n",
       "      <td>0</td>\n",
       "      <td>0</td>\n",
       "      <td>21150000</td>\n",
       "      <td>6</td>\n",
       "      <td>1997</td>\n",
       "      <td>1</td>\n",
       "    </tr>\n",
       "    <tr>\n",
       "      <th>4</th>\n",
       "      <td>Frogger</td>\n",
       "      <td>5</td>\n",
       "      <td>Action</td>\n",
       "      <td>Series</td>\n",
       "      <td>Konami</td>\n",
       "      <td>Konami</td>\n",
       "      <td>0</td>\n",
       "      <td>0</td>\n",
       "      <td>0</td>\n",
       "      <td>0</td>\n",
       "      <td>20000000</td>\n",
       "      <td>10</td>\n",
       "      <td>1981</td>\n",
       "      <td>1</td>\n",
       "    </tr>\n",
       "    <tr>\n",
       "      <th>...</th>\n",
       "      <td>...</td>\n",
       "      <td>...</td>\n",
       "      <td>...</td>\n",
       "      <td>...</td>\n",
       "      <td>...</td>\n",
       "      <td>...</td>\n",
       "      <td>...</td>\n",
       "      <td>...</td>\n",
       "      <td>...</td>\n",
       "      <td>...</td>\n",
       "      <td>...</td>\n",
       "      <td>...</td>\n",
       "      <td>...</td>\n",
       "      <td>...</td>\n",
       "    </tr>\n",
       "    <tr>\n",
       "      <th>17505</th>\n",
       "      <td>Wand of Fortune 2 FD: Kimi ni Sasageru Epilogue</td>\n",
       "      <td>461</td>\n",
       "      <td>Visual+Novel</td>\n",
       "      <td>PSP</td>\n",
       "      <td>Idea Factory</td>\n",
       "      <td>Idea Factory</td>\n",
       "      <td>0</td>\n",
       "      <td>0</td>\n",
       "      <td>30000</td>\n",
       "      <td>0</td>\n",
       "      <td>30000</td>\n",
       "      <td>11</td>\n",
       "      <td>2012</td>\n",
       "      <td>0</td>\n",
       "    </tr>\n",
       "    <tr>\n",
       "      <th>17506</th>\n",
       "      <td>Infinite Stratos 2: Ignition Hearts</td>\n",
       "      <td>462</td>\n",
       "      <td>Visual+Novel</td>\n",
       "      <td>PSV</td>\n",
       "      <td>5pb</td>\n",
       "      <td>5pb. Games</td>\n",
       "      <td>0</td>\n",
       "      <td>0</td>\n",
       "      <td>30000</td>\n",
       "      <td>0</td>\n",
       "      <td>30000</td>\n",
       "      <td>2</td>\n",
       "      <td>2014</td>\n",
       "      <td>0</td>\n",
       "    </tr>\n",
       "    <tr>\n",
       "      <th>17507</th>\n",
       "      <td>Shin Hayarigami</td>\n",
       "      <td>463</td>\n",
       "      <td>Visual+Novel</td>\n",
       "      <td>PS3</td>\n",
       "      <td>Nippon Ichi Software</td>\n",
       "      <td>Nippon Ichi Software</td>\n",
       "      <td>0</td>\n",
       "      <td>0</td>\n",
       "      <td>40000</td>\n",
       "      <td>0</td>\n",
       "      <td>40000</td>\n",
       "      <td>8</td>\n",
       "      <td>2014</td>\n",
       "      <td>0</td>\n",
       "    </tr>\n",
       "    <tr>\n",
       "      <th>17508</th>\n",
       "      <td>Root Letter</td>\n",
       "      <td>464</td>\n",
       "      <td>Visual+Novel</td>\n",
       "      <td>PS4</td>\n",
       "      <td>PQube</td>\n",
       "      <td>Kadokawa Games</td>\n",
       "      <td>0</td>\n",
       "      <td>0</td>\n",
       "      <td>30000</td>\n",
       "      <td>0</td>\n",
       "      <td>30000</td>\n",
       "      <td>11</td>\n",
       "      <td>2016</td>\n",
       "      <td>0</td>\n",
       "    </tr>\n",
       "    <tr>\n",
       "      <th>17509</th>\n",
       "      <td>Amatsutsumi</td>\n",
       "      <td>468</td>\n",
       "      <td>Visual+Novel</td>\n",
       "      <td>PSV</td>\n",
       "      <td>Prototype</td>\n",
       "      <td>Prototype</td>\n",
       "      <td>0</td>\n",
       "      <td>0</td>\n",
       "      <td>10000</td>\n",
       "      <td>0</td>\n",
       "      <td>10000</td>\n",
       "      <td>5</td>\n",
       "      <td>2018</td>\n",
       "      <td>0</td>\n",
       "    </tr>\n",
       "  </tbody>\n",
       "</table>\n",
       "<p>17487 rows × 14 columns</p>\n",
       "</div>"
      ],
      "text/plain": [
       "                                                  Game  Pos         Genre  \\\n",
       "0                                           God of War    1        Action   \n",
       "1                                             Warriors    2        Action   \n",
       "2                                        Devil May Cry    3        Action   \n",
       "3                                     Dynasty Warriors    4        Action   \n",
       "4                                              Frogger    5        Action   \n",
       "...                                                ...  ...           ...   \n",
       "17505  Wand of Fortune 2 FD: Kimi ni Sasageru Epilogue  461  Visual+Novel   \n",
       "17506              Infinite Stratos 2: Ignition Hearts  462  Visual+Novel   \n",
       "17507                                  Shin Hayarigami  463  Visual+Novel   \n",
       "17508                                      Root Letter  464  Visual+Novel   \n",
       "17509                                      Amatsutsumi  468  Visual+Novel   \n",
       "\n",
       "      Console                    Publisher                Developer  NA_Sales  \\\n",
       "0      Series  Sony Computer Entertainment  SIE Santa Monica Studio         0   \n",
       "1      Series                         KOEI              Omega Force         0   \n",
       "2      Series                       Capcom                   Capcom         0   \n",
       "3      Series                         KOEI              Omega Force         0   \n",
       "4      Series                       Konami                   Konami         0   \n",
       "...       ...                          ...                      ...       ...   \n",
       "17505     PSP                 Idea Factory             Idea Factory         0   \n",
       "17506     PSV                          5pb               5pb. Games         0   \n",
       "17507     PS3         Nippon Ichi Software     Nippon Ichi Software         0   \n",
       "17508     PS4                        PQube           Kadokawa Games         0   \n",
       "17509     PSV                    Prototype                Prototype         0   \n",
       "\n",
       "       PAL_Sales  Japan_Sales  Other_Sales  Total_Sales  Relese_Month  \\\n",
       "0              0            0            0     51000000             3   \n",
       "1              0            0            0     47820000             6   \n",
       "2              0            0            0     25200000            10   \n",
       "3              0            0            0     21150000             6   \n",
       "4              0            0            0     20000000            10   \n",
       "...          ...          ...          ...          ...           ...   \n",
       "17505          0        30000            0        30000            11   \n",
       "17506          0        30000            0        30000             2   \n",
       "17507          0        40000            0        40000             8   \n",
       "17508          0        30000            0        30000            11   \n",
       "17509          0        10000            0        10000             5   \n",
       "\n",
       "       Relese_Year  Hit_Games  \n",
       "0             2005          1  \n",
       "1             1997          1  \n",
       "2             2001          1  \n",
       "3             1997          1  \n",
       "4             1981          1  \n",
       "...            ...        ...  \n",
       "17505         2012          0  \n",
       "17506         2014          0  \n",
       "17507         2014          0  \n",
       "17508         2016          0  \n",
       "17509         2018          0  \n",
       "\n",
       "[17487 rows x 14 columns]"
      ]
     },
     "execution_count": 72,
     "metadata": {},
     "output_type": "execute_result"
    }
   ],
   "source": [
    "new_df"
   ]
  },
  {
   "cell_type": "code",
   "execution_count": 73,
   "id": "86e1ebfe",
   "metadata": {},
   "outputs": [
    {
     "data": {
      "text/html": [
       "<div>\n",
       "<style scoped>\n",
       "    .dataframe tbody tr th:only-of-type {\n",
       "        vertical-align: middle;\n",
       "    }\n",
       "\n",
       "    .dataframe tbody tr th {\n",
       "        vertical-align: top;\n",
       "    }\n",
       "\n",
       "    .dataframe thead th {\n",
       "        text-align: right;\n",
       "    }\n",
       "</style>\n",
       "<table border=\"1\" class=\"dataframe\">\n",
       "  <thead>\n",
       "    <tr style=\"text-align: right;\">\n",
       "      <th></th>\n",
       "      <th>Game</th>\n",
       "      <th>Pos</th>\n",
       "      <th>Genre</th>\n",
       "      <th>Console</th>\n",
       "      <th>Publisher</th>\n",
       "      <th>Developer</th>\n",
       "      <th>NA_Sales</th>\n",
       "      <th>PAL_Sales</th>\n",
       "      <th>Japan_Sales</th>\n",
       "      <th>Other_Sales</th>\n",
       "      <th>Total_Sales</th>\n",
       "      <th>Relese_Month</th>\n",
       "      <th>Relese_Year</th>\n",
       "      <th>Hit_Games</th>\n",
       "    </tr>\n",
       "  </thead>\n",
       "  <tbody>\n",
       "    <tr>\n",
       "      <th>count</th>\n",
       "      <td>17487</td>\n",
       "      <td>17487.000000</td>\n",
       "      <td>17487</td>\n",
       "      <td>17487</td>\n",
       "      <td>17487</td>\n",
       "      <td>17487</td>\n",
       "      <td>1.748700e+04</td>\n",
       "      <td>1.748700e+04</td>\n",
       "      <td>1.748700e+04</td>\n",
       "      <td>1.748700e+04</td>\n",
       "      <td>1.748700e+04</td>\n",
       "      <td>17487.000000</td>\n",
       "      <td>17487.000000</td>\n",
       "      <td>17487.000000</td>\n",
       "    </tr>\n",
       "    <tr>\n",
       "      <th>unique</th>\n",
       "      <td>12894</td>\n",
       "      <td>NaN</td>\n",
       "      <td>18</td>\n",
       "      <td>47</td>\n",
       "      <td>1078</td>\n",
       "      <td>3297</td>\n",
       "      <td>NaN</td>\n",
       "      <td>NaN</td>\n",
       "      <td>NaN</td>\n",
       "      <td>NaN</td>\n",
       "      <td>NaN</td>\n",
       "      <td>NaN</td>\n",
       "      <td>NaN</td>\n",
       "      <td>NaN</td>\n",
       "    </tr>\n",
       "    <tr>\n",
       "      <th>top</th>\n",
       "      <td>Minecraft</td>\n",
       "      <td>NaN</td>\n",
       "      <td>Action</td>\n",
       "      <td>PC</td>\n",
       "      <td>Ubisoft</td>\n",
       "      <td>Unknown</td>\n",
       "      <td>NaN</td>\n",
       "      <td>NaN</td>\n",
       "      <td>NaN</td>\n",
       "      <td>NaN</td>\n",
       "      <td>NaN</td>\n",
       "      <td>NaN</td>\n",
       "      <td>NaN</td>\n",
       "      <td>NaN</td>\n",
       "    </tr>\n",
       "    <tr>\n",
       "      <th>freq</th>\n",
       "      <td>11</td>\n",
       "      <td>NaN</td>\n",
       "      <td>3212</td>\n",
       "      <td>2604</td>\n",
       "      <td>833</td>\n",
       "      <td>490</td>\n",
       "      <td>NaN</td>\n",
       "      <td>NaN</td>\n",
       "      <td>NaN</td>\n",
       "      <td>NaN</td>\n",
       "      <td>NaN</td>\n",
       "      <td>NaN</td>\n",
       "      <td>NaN</td>\n",
       "      <td>NaN</td>\n",
       "    </tr>\n",
       "    <tr>\n",
       "      <th>mean</th>\n",
       "      <td>NaN</td>\n",
       "      <td>2107.135701</td>\n",
       "      <td>NaN</td>\n",
       "      <td>NaN</td>\n",
       "      <td>NaN</td>\n",
       "      <td>NaN</td>\n",
       "      <td>1.388740e+05</td>\n",
       "      <td>7.948705e+04</td>\n",
       "      <td>2.712301e+04</td>\n",
       "      <td>2.692286e+04</td>\n",
       "      <td>1.302763e+06</td>\n",
       "      <td>7.099159</td>\n",
       "      <td>2008.092755</td>\n",
       "      <td>0.173615</td>\n",
       "    </tr>\n",
       "    <tr>\n",
       "      <th>std</th>\n",
       "      <td>NaN</td>\n",
       "      <td>1972.811022</td>\n",
       "      <td>NaN</td>\n",
       "      <td>NaN</td>\n",
       "      <td>NaN</td>\n",
       "      <td>NaN</td>\n",
       "      <td>3.781996e+05</td>\n",
       "      <td>2.968746e+05</td>\n",
       "      <td>9.498465e+04</td>\n",
       "      <td>1.007986e+05</td>\n",
       "      <td>9.792054e+06</td>\n",
       "      <td>3.477465</td>\n",
       "      <td>6.875727</td>\n",
       "      <td>0.378789</td>\n",
       "    </tr>\n",
       "    <tr>\n",
       "      <th>min</th>\n",
       "      <td>NaN</td>\n",
       "      <td>1.000000</td>\n",
       "      <td>NaN</td>\n",
       "      <td>NaN</td>\n",
       "      <td>NaN</td>\n",
       "      <td>NaN</td>\n",
       "      <td>0.000000e+00</td>\n",
       "      <td>0.000000e+00</td>\n",
       "      <td>0.000000e+00</td>\n",
       "      <td>0.000000e+00</td>\n",
       "      <td>0.000000e+00</td>\n",
       "      <td>1.000000</td>\n",
       "      <td>1980.000000</td>\n",
       "      <td>0.000000</td>\n",
       "    </tr>\n",
       "    <tr>\n",
       "      <th>25%</th>\n",
       "      <td>NaN</td>\n",
       "      <td>387.000000</td>\n",
       "      <td>NaN</td>\n",
       "      <td>NaN</td>\n",
       "      <td>NaN</td>\n",
       "      <td>NaN</td>\n",
       "      <td>0.000000e+00</td>\n",
       "      <td>0.000000e+00</td>\n",
       "      <td>0.000000e+00</td>\n",
       "      <td>0.000000e+00</td>\n",
       "      <td>5.000000e+04</td>\n",
       "      <td>4.000000</td>\n",
       "      <td>2004.000000</td>\n",
       "      <td>0.000000</td>\n",
       "    </tr>\n",
       "    <tr>\n",
       "      <th>50%</th>\n",
       "      <td>NaN</td>\n",
       "      <td>1561.000000</td>\n",
       "      <td>NaN</td>\n",
       "      <td>NaN</td>\n",
       "      <td>NaN</td>\n",
       "      <td>NaN</td>\n",
       "      <td>1.000000e+04</td>\n",
       "      <td>0.000000e+00</td>\n",
       "      <td>0.000000e+00</td>\n",
       "      <td>0.000000e+00</td>\n",
       "      <td>1.700000e+05</td>\n",
       "      <td>8.000000</td>\n",
       "      <td>2009.000000</td>\n",
       "      <td>0.000000</td>\n",
       "    </tr>\n",
       "    <tr>\n",
       "      <th>75%</th>\n",
       "      <td>NaN</td>\n",
       "      <td>3299.000000</td>\n",
       "      <td>NaN</td>\n",
       "      <td>NaN</td>\n",
       "      <td>NaN</td>\n",
       "      <td>NaN</td>\n",
       "      <td>1.300000e+05</td>\n",
       "      <td>4.000000e+04</td>\n",
       "      <td>1.000000e+04</td>\n",
       "      <td>2.000000e+04</td>\n",
       "      <td>5.500000e+05</td>\n",
       "      <td>10.000000</td>\n",
       "      <td>2013.000000</td>\n",
       "      <td>0.000000</td>\n",
       "    </tr>\n",
       "    <tr>\n",
       "      <th>max</th>\n",
       "      <td>NaN</td>\n",
       "      <td>9181.000000</td>\n",
       "      <td>NaN</td>\n",
       "      <td>NaN</td>\n",
       "      <td>NaN</td>\n",
       "      <td>NaN</td>\n",
       "      <td>9.760000e+06</td>\n",
       "      <td>9.850000e+06</td>\n",
       "      <td>2.130000e+06</td>\n",
       "      <td>3.120000e+06</td>\n",
       "      <td>4.964000e+08</td>\n",
       "      <td>12.000000</td>\n",
       "      <td>2022.000000</td>\n",
       "      <td>1.000000</td>\n",
       "    </tr>\n",
       "  </tbody>\n",
       "</table>\n",
       "</div>"
      ],
      "text/plain": [
       "             Game           Pos   Genre Console Publisher Developer  \\\n",
       "count       17487  17487.000000   17487   17487     17487     17487   \n",
       "unique      12894           NaN      18      47      1078      3297   \n",
       "top     Minecraft           NaN  Action      PC   Ubisoft   Unknown   \n",
       "freq           11           NaN    3212    2604       833       490   \n",
       "mean          NaN   2107.135701     NaN     NaN       NaN       NaN   \n",
       "std           NaN   1972.811022     NaN     NaN       NaN       NaN   \n",
       "min           NaN      1.000000     NaN     NaN       NaN       NaN   \n",
       "25%           NaN    387.000000     NaN     NaN       NaN       NaN   \n",
       "50%           NaN   1561.000000     NaN     NaN       NaN       NaN   \n",
       "75%           NaN   3299.000000     NaN     NaN       NaN       NaN   \n",
       "max           NaN   9181.000000     NaN     NaN       NaN       NaN   \n",
       "\n",
       "            NA_Sales     PAL_Sales   Japan_Sales   Other_Sales   Total_Sales  \\\n",
       "count   1.748700e+04  1.748700e+04  1.748700e+04  1.748700e+04  1.748700e+04   \n",
       "unique           NaN           NaN           NaN           NaN           NaN   \n",
       "top              NaN           NaN           NaN           NaN           NaN   \n",
       "freq             NaN           NaN           NaN           NaN           NaN   \n",
       "mean    1.388740e+05  7.948705e+04  2.712301e+04  2.692286e+04  1.302763e+06   \n",
       "std     3.781996e+05  2.968746e+05  9.498465e+04  1.007986e+05  9.792054e+06   \n",
       "min     0.000000e+00  0.000000e+00  0.000000e+00  0.000000e+00  0.000000e+00   \n",
       "25%     0.000000e+00  0.000000e+00  0.000000e+00  0.000000e+00  5.000000e+04   \n",
       "50%     1.000000e+04  0.000000e+00  0.000000e+00  0.000000e+00  1.700000e+05   \n",
       "75%     1.300000e+05  4.000000e+04  1.000000e+04  2.000000e+04  5.500000e+05   \n",
       "max     9.760000e+06  9.850000e+06  2.130000e+06  3.120000e+06  4.964000e+08   \n",
       "\n",
       "        Relese_Month   Relese_Year     Hit_Games  \n",
       "count   17487.000000  17487.000000  17487.000000  \n",
       "unique           NaN           NaN           NaN  \n",
       "top              NaN           NaN           NaN  \n",
       "freq             NaN           NaN           NaN  \n",
       "mean        7.099159   2008.092755      0.173615  \n",
       "std         3.477465      6.875727      0.378789  \n",
       "min         1.000000   1980.000000      0.000000  \n",
       "25%         4.000000   2004.000000      0.000000  \n",
       "50%         8.000000   2009.000000      0.000000  \n",
       "75%        10.000000   2013.000000      0.000000  \n",
       "max        12.000000   2022.000000      1.000000  "
      ]
     },
     "execution_count": 73,
     "metadata": {},
     "output_type": "execute_result"
    }
   ],
   "source": [
    "new_df.describe(include = \"all\")"
   ]
  },
  {
   "cell_type": "code",
   "execution_count": 74,
   "id": "20f25b82",
   "metadata": {},
   "outputs": [],
   "source": [
    "new_df.to_csv(\"clean_data.csv\")"
   ]
  },
  {
   "cell_type": "code",
   "execution_count": null,
   "id": "7206e297",
   "metadata": {},
   "outputs": [],
   "source": [
    "##################################################################"
   ]
  }
 ],
 "metadata": {
  "kernelspec": {
   "display_name": "Python 3 (ipykernel)",
   "language": "python",
   "name": "python3"
  },
  "language_info": {
   "codemirror_mode": {
    "name": "ipython",
    "version": 3
   },
   "file_extension": ".py",
   "mimetype": "text/x-python",
   "name": "python",
   "nbconvert_exporter": "python",
   "pygments_lexer": "ipython3",
   "version": "3.9.7"
  }
 },
 "nbformat": 4,
 "nbformat_minor": 5
}
